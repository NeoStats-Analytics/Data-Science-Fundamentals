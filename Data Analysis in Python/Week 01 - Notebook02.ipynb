{
 "cells": [
  {
   "cell_type": "markdown",
   "metadata": {},
   "source": [
    "## NeoStats - Python for Data Science\n",
    "\n",
    "##### Introduction to Python Language (Python 3)\n",
    "\n",
    "In this notebook we will cover the following:\n",
    "- Classes & Objects\n",
    "- File Input and Output\n",
    "- Exception Handling"
   ]
  },
  {
   "cell_type": "markdown",
   "metadata": {},
   "source": [
    "#### 5. Classes and Objects\n",
    "- Python is an object oriented programming (OOP) language\n",
    "    - OOP is a paradigm based on the concept of \"objects\", which can contain data and code\n",
    "- almost everything in python is an object (including classes and functions), with its properties and methods\n",
    "- a class defines all the variables(data) and functions(code)\n",
    "- python has encapsulation, inheritance, and polymorphism : all 3 pillars of OOP\n",
    "- An object is an instantiation of a class - this is where memory allocation happens\n",
    "- Further reading: Namespace and Scope: https://docs.python.org/3/tutorial/classes.html#python-scopes-and-namespaces"
   ]
  },
  {
   "cell_type": "code",
   "execution_count": 2,
   "metadata": {},
   "outputs": [],
   "source": [
    "# a simple class\n",
    "class pythonClass:\n",
    "\n",
    "    action = \" is creating a python class\"              # class variable - shared by all objects\n",
    "\n",
    "    def type(self, name):                               # methods  \n",
    "        return name + self.action                       #class variables need a self. prefix "
   ]
  },
  {
   "cell_type": "code",
   "execution_count": 3,
   "metadata": {},
   "outputs": [
    {
     "data": {
      "text/plain": [
       "'Sachin is creating a python class'"
      ]
     },
     "execution_count": 3,
     "metadata": {},
     "output_type": "execute_result"
    }
   ],
   "source": [
    "#object creation\n",
    "myClass = pythonClass()\n",
    "myClass.type(\"Sachin\")"
   ]
  },
  {
   "cell_type": "code",
   "execution_count": 4,
   "metadata": {},
   "outputs": [
    {
     "name": "stdout",
     "output_type": "stream",
     "text": [
      "Type <class '__main__.pythonClass'>\n"
     ]
    }
   ],
   "source": [
    "print (\"Type\", type(myClass))"
   ]
  },
  {
   "cell_type": "code",
   "execution_count": 5,
   "metadata": {},
   "outputs": [
    {
     "name": "stdout",
     "output_type": "stream",
     "text": [
      "Dir  ['__class__', '__delattr__', '__dict__', '__dir__', '__doc__', '__eq__', '__format__', '__ge__', '__getattribute__', '__gt__', '__hash__', '__init__', '__init_subclass__', '__le__', '__lt__', '__module__', '__ne__', '__new__', '__reduce__', '__reduce_ex__', '__repr__', '__setattr__', '__sizeof__', '__str__', '__subclasshook__', '__weakref__', 'action', 'type']\n"
     ]
    }
   ],
   "source": [
    "print (\"Dir \", dir(myClass))"
   ]
  },
  {
   "cell_type": "code",
   "execution_count": 6,
   "metadata": {},
   "outputs": [
    {
     "name": "stdout",
     "output_type": "stream",
     "text": [
      "action <class 'str'>\n",
      "type <class 'method'>\n"
     ]
    }
   ],
   "source": [
    "print (\"action\", type(myClass.action))\n",
    "print (\"type\", type(myClass.type))"
   ]
  },
  {
   "cell_type": "code",
   "execution_count": 7,
   "metadata": {},
   "outputs": [],
   "source": [
    "# Count the instance of class\n",
    "\n",
    "class GuestList:\n",
    "    _x = 0                                              #counter\n",
    "    def __init__(self, name):\n",
    "        self.name = name\n",
    "        self._x = self._x + 1                 \n",
    "        print(self.name,'arrived')\n",
    "\n",
    "    def count(self) :\n",
    "        print(self.name,'Guest count',self._x)"
   ]
  },
  {
   "cell_type": "code",
   "execution_count": null,
   "metadata": {},
   "outputs": [],
   "source": [
    "#What's wrong with the above?"
   ]
  },
  {
   "cell_type": "code",
   "execution_count": 8,
   "metadata": {},
   "outputs": [
    {
     "name": "stdout",
     "output_type": "stream",
     "text": [
      "Karthik arrived\n",
      "Karthik Guest count 1\n"
     ]
    }
   ],
   "source": [
    "k = GuestList('Karthik')\n",
    "k.count()"
   ]
  },
  {
   "cell_type": "code",
   "execution_count": 9,
   "metadata": {},
   "outputs": [
    {
     "name": "stdout",
     "output_type": "stream",
     "text": [
      "Sunil arrived\n",
      "Sunil Guest count 1\n"
     ]
    }
   ],
   "source": [
    "s = GuestList('Sunil')\n",
    "s.count()"
   ]
  },
  {
   "cell_type": "code",
   "execution_count": 10,
   "metadata": {},
   "outputs": [],
   "source": [
    "class GuestList:\n",
    "    _x = 0                                              #counter\n",
    "    def __init__(self, name):\n",
    "        self.name = name\n",
    "        GuestList._x = GuestList._x + 1                 #referenced by class name   \n",
    "        print(self.name,'arrived')\n",
    "\n",
    "    def count(self) :\n",
    "        print(self.name,'Guest count',GuestList._x)"
   ]
  },
  {
   "cell_type": "code",
   "execution_count": 11,
   "metadata": {},
   "outputs": [
    {
     "name": "stdout",
     "output_type": "stream",
     "text": [
      "Karthik arrived\n",
      "Karthik Guest count 1\n"
     ]
    }
   ],
   "source": [
    "k = GuestList('Karthik')\n",
    "k.count()"
   ]
  },
  {
   "cell_type": "code",
   "execution_count": 12,
   "metadata": {},
   "outputs": [
    {
     "name": "stdout",
     "output_type": "stream",
     "text": [
      "Sunil arrived\n",
      "Sunil Guest count 2\n"
     ]
    }
   ],
   "source": [
    "s = GuestList('Sunil')\n",
    "s.count()"
   ]
  },
  {
   "cell_type": "code",
   "execution_count": 13,
   "metadata": {},
   "outputs": [
    {
     "name": "stdout",
     "output_type": "stream",
     "text": [
      "Mahuya arrived\n",
      "Mahuya Guest count 3\n"
     ]
    }
   ],
   "source": [
    "m = GuestList('Mahuya')\n",
    "m.count()"
   ]
  },
  {
   "cell_type": "code",
   "execution_count": null,
   "metadata": {},
   "outputs": [],
   "source": [
    "stuff = list()\n",
    "stuff.append('python')\n",
    "stuff.append('program')\n",
    "stuff.append('easy')\n",
    "stuff.append('interesting')\n",
    "stuff.sort()"
   ]
  },
  {
   "cell_type": "code",
   "execution_count": null,
   "metadata": {},
   "outputs": [],
   "source": [
    "print (stuff[0])"
   ]
  },
  {
   "cell_type": "markdown",
   "metadata": {},
   "source": [
    "##### 5.1 Operator Overloading\n",
    " - special methods that specify the behavior of operators on user defined objects "
   ]
  },
  {
   "cell_type": "code",
   "execution_count": 14,
   "metadata": {},
   "outputs": [],
   "source": [
    "# Example of operator overloading - Adding 2 time objects\n",
    "\n",
    "class Time(object):\n",
    "\n",
    "    hour, minute, sec = 0,0,0\n",
    "    \n",
    "    def __init__(self, hr=0,mn=0,sc=0):\n",
    "        self.hour = hr\n",
    "        self.minute = mn\n",
    "        self.sec = sc\n",
    "        \n",
    "    def __str__(self):                                                   #what does this do? \n",
    "        return '%.2d:%.2d:%.2d' % (self.hour, self.minute, self.sec)\n",
    "    \n",
    "    def time_to_int(time):\n",
    "        minutes = time.hour * 60 + time.minute\n",
    "        seconds = minutes * 60 + time.sec\n",
    "        return seconds\n",
    "    \n",
    "    def add_time(t1, t2):\n",
    "        seconds = time_to_int(t1) + time_to_int(t2)\n",
    "        return int_to_time(seconds)\n",
    "\n",
    "    def __add__(self, other):                                                     \n",
    "        seconds = self.time_to_int() + other.time_to_int()\n",
    "        return int_to_time(seconds)\n",
    "\n",
    "def int_to_time(seconds):                                                  # why is defined outside the class??\n",
    "    time = Time()\n",
    "    minutes, time.sec = divmod(seconds, 60)\n",
    "    time.hour, time.minute = divmod(minutes, 60)\n",
    "    return time"
   ]
  },
  {
   "cell_type": "code",
   "execution_count": 15,
   "metadata": {},
   "outputs": [
    {
     "name": "stdout",
     "output_type": "stream",
     "text": [
      "11:20:00\n"
     ]
    }
   ],
   "source": [
    "start = Time(9, 45)\n",
    "duration = Time(1, 35)\n",
    "print (start + duration)"
   ]
  },
  {
   "cell_type": "markdown",
   "metadata": {},
   "source": [
    "#### 6. File Input and Output"
   ]
  },
  {
   "cell_type": "markdown",
   "metadata": {},
   "source": [
    "##### 6.1 Reading Keyboard Input\n",
    "- Python has a built-in function to read a line of text from standard input\n",
    "    - input     : reads one line from standard input, evaluates it if its an expresion and returns the evaluated result "
   ]
  },
  {
   "cell_type": "code",
   "execution_count": 20,
   "metadata": {},
   "outputs": [
    {
     "name": "stdout",
     "output_type": "stream",
     "text": [
      "Enter your input: Md Ashad\n",
      "Received input is :  Md Ashad\n"
     ]
    }
   ],
   "source": [
    "str = input(\"Enter your input: \")\n",
    "print(\"Received input is : \", str)                  #Data Science!"
   ]
  },
  {
   "cell_type": "code",
   "execution_count": 21,
   "metadata": {},
   "outputs": [
    {
     "name": "stdout",
     "output_type": "stream",
     "text": [
      "Enter your input: [x*2 for x in range(5)]\n"
     ]
    },
    {
     "data": {
      "text/plain": [
       "[0, 2, 4, 6, 8]"
      ]
     },
     "execution_count": 21,
     "metadata": {},
     "output_type": "execute_result"
    }
   ],
   "source": [
    "exp = input(\"Enter your input: \")                   # [x*2 for x in range(5)]\n",
    "eval(exp)"
   ]
  },
  {
   "cell_type": "code",
   "execution_count": null,
   "metadata": {},
   "outputs": [],
   "source": [
    "# writing to screen\n",
    "print(\"Something\")"
   ]
  },
  {
   "cell_type": "markdown",
   "metadata": {},
   "source": [
    "##### 6.2 Opening and Closing Files\n",
    "- The open Function \n",
    "    - Before we can read or write a file, we have to open it using Python's built-in open() function. \n",
    "    - This function creates a file object, which would be utilized to call other support methods associated with it.\n",
    "    - Syntax: file object = open(file_name [, access_mode][, buffering])\n",
    "    - access mode: <br>\n",
    "        * r - reading, w - writing, a - appending <br>\n",
    "        * \"+\" as suffix implies both modes <br>\n",
    "        * \"b\" as suffix implies binary mode <br>\n",
    "\n",
    "- The close() Method\n",
    "     - The close() method of a file object flushes any unwritten information and closes the file object\n",
    "     - No more writing can be done after the file is closed"
   ]
  },
  {
   "cell_type": "code",
   "execution_count": null,
   "metadata": {},
   "outputs": [],
   "source": [
    "#open the file\n",
    "fileptr = open(\"myfile.txt\", \"wb\")\n",
    "\n",
    "#file attributes\n",
    "print (\"What is the name of the file? \", fileptr.name)\n",
    "print (\"Is the file closed? \", fileptr.closed)\n",
    "print (\"What mode is the file opened? \", fileptr.mode)\n",
    "\n",
    "fileptr.close()"
   ]
  },
  {
   "cell_type": "markdown",
   "metadata": {},
   "source": [
    "##### 6.3 Reading and Writing Files\n",
    "- The write() Method:\n",
    "    - writes any string to an open file\n",
    "    - python strings can have binary data and not just text\n",
    "    - the method does not add a newline character ('\\n') to the end of the string\n",
    "<br>\n",
    "- The read() Method\n",
    "    - reads a string from an open file\n",
    "<br>\n",
    "- The tell() method \n",
    "    - tells you the current position (bytes) within the file\n",
    "<br>\n",
    "- The seek(offset) method \n",
    "    - changes the current file position"
   ]
  },
  {
   "cell_type": "code",
   "execution_count": null,
   "metadata": {},
   "outputs": [],
   "source": [
    "# Open a file to write\n",
    "fw = open(\"myfile.txt\", \"w\")\n",
    "fw.write( \"Python is a great language.\\nYeah its great for data science!!\\n\")\n",
    "\n",
    "# Close opend file\n",
    "fw.close()\n",
    "\n",
    "#open the file to read\n",
    "fr = open(\"myfile.txt\", \"r+\")\n",
    "str1 = fr.read(20)\n",
    "print (\"Read String is : \", str1)\n",
    "\n",
    "# Check current position\n",
    "position = fr.tell()\n",
    "print (\"Current file position : \", position)\n",
    "\n",
    "# Reposition pointer at the beginning once again\n",
    "position = fr.seek(0, 0)\n",
    "str2 = fr.read()\n",
    "print (\"Read String is : \", str2)\n",
    "\n",
    "fr.close()"
   ]
  },
  {
   "cell_type": "markdown",
   "metadata": {},
   "source": [
    "##### 6.4 Deleting a file\n",
    "- The remove() Method\n",
    "    - delete files by supplying the name of the file to be deleted as the argument."
   ]
  },
  {
   "cell_type": "code",
   "execution_count": 17,
   "metadata": {},
   "outputs": [
    {
     "ename": "FileNotFoundError",
     "evalue": "[WinError 2] The system cannot find the file specified: 'myfile.txt'",
     "output_type": "error",
     "traceback": [
      "\u001b[1;31m---------------------------------------------------------------------------\u001b[0m",
      "\u001b[1;31mFileNotFoundError\u001b[0m                         Traceback (most recent call last)",
      "\u001b[1;32m<ipython-input-17-c4120f65fe91>\u001b[0m in \u001b[0;36m<module>\u001b[1;34m()\u001b[0m\n\u001b[0;32m      2\u001b[0m \u001b[1;33m\u001b[0m\u001b[0m\n\u001b[0;32m      3\u001b[0m \u001b[1;31m# Delete file test2.txt\u001b[0m\u001b[1;33m\u001b[0m\u001b[1;33m\u001b[0m\u001b[0m\n\u001b[1;32m----> 4\u001b[1;33m \u001b[0mos\u001b[0m\u001b[1;33m.\u001b[0m\u001b[0mremove\u001b[0m\u001b[1;33m(\u001b[0m\u001b[1;34m\"myfile.txt\"\u001b[0m\u001b[1;33m)\u001b[0m\u001b[1;33m\u001b[0m\u001b[0m\n\u001b[0m",
      "\u001b[1;31mFileNotFoundError\u001b[0m: [WinError 2] The system cannot find the file specified: 'myfile.txt'"
     ]
    }
   ],
   "source": [
    "import os\n",
    "\n",
    "# Delete file test2.txt\n",
    "os.remove(\"myfile.txt\")"
   ]
  },
  {
   "cell_type": "code",
   "execution_count": null,
   "metadata": {},
   "outputs": [],
   "source": [
    "print(dir(os))                # other file and directory related functions"
   ]
  },
  {
   "cell_type": "code",
   "execution_count": 18,
   "metadata": {},
   "outputs": [
    {
     "data": {
      "text/plain": [
       "'3.6.5 |Anaconda, Inc.| (default, Mar 29 2018, 13:32:41) [MSC v.1900 64 bit (AMD64)]'"
      ]
     },
     "execution_count": 18,
     "metadata": {},
     "output_type": "execute_result"
    }
   ],
   "source": [
    "os.sys.version"
   ]
  },
  {
   "cell_type": "markdown",
   "metadata": {},
   "source": [
    "#### 7. Exception Handling\n",
    " - Python provides two very important features to handle any unexpected error in your Python programs and to add debugging capabilities in them\n",
    "     - Exception Handling - Errors detected during execution are called exceptions, and python provides ways to handle them\n",
    "     - Assertions - a sanity-check that you can turn on or turn off\n"
   ]
  },
  {
   "cell_type": "code",
   "execution_count": 19,
   "metadata": {},
   "outputs": [
    {
     "ename": "ZeroDivisionError",
     "evalue": "division by zero",
     "output_type": "error",
     "traceback": [
      "\u001b[1;31m---------------------------------------------------------------------------\u001b[0m",
      "\u001b[1;31mZeroDivisionError\u001b[0m                         Traceback (most recent call last)",
      "\u001b[1;32m<ipython-input-19-e574edb36883>\u001b[0m in \u001b[0;36m<module>\u001b[1;34m()\u001b[0m\n\u001b[1;32m----> 1\u001b[1;33m \u001b[1;36m10\u001b[0m\u001b[1;33m/\u001b[0m\u001b[1;36m0\u001b[0m\u001b[1;33m\u001b[0m\u001b[0m\n\u001b[0m",
      "\u001b[1;31mZeroDivisionError\u001b[0m: division by zero"
     ]
    }
   ],
   "source": [
    "10/0"
   ]
  },
  {
   "cell_type": "markdown",
   "metadata": {},
   "source": [
    "##### 7.1 Handling Exception\n",
    "- Exceptions are inherited from Exception whihc is the base class\n",
    "- Many types of exception are defined : TypeError, ValueError, ArithmeticError, ZeroDivisionError, NameError etc."
   ]
  },
  {
   "cell_type": "code",
   "execution_count": null,
   "metadata": {},
   "outputs": [],
   "source": [
    "''' Syntax:\n",
    "try:<br>\n",
    "        some code <br> \n",
    "except ExceptionI: <br>\n",
    "       If there is ExceptionI, then execute this block. <br>\n",
    "except ExceptionII: <br>\n",
    "       If there is ExceptionII, then execute this block. <br>\n",
    "else:\n",
    "       If there is no exception then execute this block. <br>\n",
    "finally: <br> \n",
    "   Always execute ths block.                         <br>\n",
    "'''"
   ]
  },
  {
   "cell_type": "code",
   "execution_count": null,
   "metadata": {},
   "outputs": [],
   "source": [
    "#example\n",
    "try:\n",
    "    fw = open(\"abc/testfile\", \"w\")\n",
    "    fw.write(\"This is my test file for exception handling!!\")\n",
    "except IOError:\n",
    "    print (\"Error: can\\'t find file or read data\")\n",
    "else:\n",
    "    print (\"Written content in the file successfully\")\n",
    "finally:\n",
    "    fw.close()"
   ]
  },
  {
   "cell_type": "code",
   "execution_count": null,
   "metadata": {},
   "outputs": [],
   "source": [
    "# The except Clause with No Exceptions - catches all exceptions\n",
    "try:\n",
    "    a = 10/0\n",
    "except:\n",
    "    print(\"Exception Caught!\")\n",
    "else:\n",
    "    print(\"Value of a is:\", a)"
   ]
  },
  {
   "cell_type": "code",
   "execution_count": null,
   "metadata": {},
   "outputs": [],
   "source": [
    "# Argument in except clause - used to provide more information\n",
    "def get_number(var):\n",
    "    try:\n",
    "        return int(var)\n",
    "    except ValueError as Argument:\n",
    "        print(\"Exception raised\")\n",
    "        print (\"Issue:\", Argument)"
   ]
  },
  {
   "cell_type": "code",
   "execution_count": null,
   "metadata": {},
   "outputs": [],
   "source": [
    "# Call above function here.\n",
    "n = get_number(\"xyz\")"
   ]
  },
  {
   "cell_type": "code",
   "execution_count": null,
   "metadata": {},
   "outputs": [],
   "source": [
    "'''\n",
    "Example Problem \n",
    "Write a code where you use the wrong number of arguments for a method (say sqrt() or pow()). Use the\n",
    "exception handling process to catch the ValueError exception.\n",
    "'''"
   ]
  }
 ],
 "metadata": {
  "kernelspec": {
   "display_name": "Python 3 (ipykernel)",
   "language": "python",
   "name": "python3"
  },
  "language_info": {
   "codemirror_mode": {
    "name": "ipython",
    "version": 3
   },
   "file_extension": ".py",
   "mimetype": "text/x-python",
   "name": "python",
   "nbconvert_exporter": "python",
   "pygments_lexer": "ipython3",
   "version": "3.9.7"
  }
 },
 "nbformat": 4,
 "nbformat_minor": 2
}
