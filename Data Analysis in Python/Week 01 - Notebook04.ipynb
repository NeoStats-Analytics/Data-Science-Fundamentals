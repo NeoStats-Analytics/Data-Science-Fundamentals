{
 "cells": [
  {
   "cell_type": "markdown",
   "metadata": {},
   "source": [
    "### NeoStats - Python for Data Science\n",
    "Introduction to Python Language (Python 3)\n",
    "\n",
    "In this notebook we will cover the following:\n",
    "- Data Wrangling with Pandas \n",
    "- Advanced Numpy\n",
    "- Strings and Text"
   ]
  },
  {
   "cell_type": "markdown",
   "metadata": {},
   "source": [
    "#### 1. Data Wrangling\n",
    "\n",
    "Data Wrangling process is defined as process in which we do the following: \n",
    "1. Discovering: Before we can dive deeply, we must better understand what is in the data,\n",
    "2. Structuring: This step means organizing the data for better analysis. A single column may turn into several rows, one column may become two.\n",
    "3. Cleaning: In this step we decide what to do with erroneous data, outliers, missing values etc.\n",
    "4. Enriching: Exploring what other additional data might be added to help with the analysis\n",
    "5. Validating: Verifying data consistency, quality, and security.\n",
    "6. Publishing: Making the data and insights easy to accesses and consume."
   ]
  },
  {
   "cell_type": "code",
   "execution_count": 1,
   "metadata": {},
   "outputs": [],
   "source": [
    "import numpy as np\n",
    "import pandas as pd "
   ]
  },
  {
   "cell_type": "markdown",
   "metadata": {},
   "source": [
    "##### 1.1 About the Credit Card Dataset\n",
    "- Credit Card customer acquisition\n",
    "- Spend (Transaction) Data\n",
    "- Payment Information \n"
   ]
  },
  {
   "cell_type": "code",
   "execution_count": 2,
   "metadata": {},
   "outputs": [
    {
     "data": {
      "text/html": [
       "<div>\n",
       "<style scoped>\n",
       "    .dataframe tbody tr th:only-of-type {\n",
       "        vertical-align: middle;\n",
       "    }\n",
       "\n",
       "    .dataframe tbody tr th {\n",
       "        vertical-align: top;\n",
       "    }\n",
       "\n",
       "    .dataframe thead th {\n",
       "        text-align: right;\n",
       "    }\n",
       "</style>\n",
       "<table border=\"1\" class=\"dataframe\">\n",
       "  <thead>\n",
       "    <tr style=\"text-align: right;\">\n",
       "      <th></th>\n",
       "      <th>No</th>\n",
       "      <th>Customer</th>\n",
       "      <th>Age</th>\n",
       "      <th>City</th>\n",
       "      <th>Product</th>\n",
       "      <th>Limit</th>\n",
       "      <th>Company</th>\n",
       "      <th>Segment</th>\n",
       "    </tr>\n",
       "  </thead>\n",
       "  <tbody>\n",
       "    <tr>\n",
       "      <th>0</th>\n",
       "      <td>1</td>\n",
       "      <td>A1</td>\n",
       "      <td>47</td>\n",
       "      <td>BANGALORE</td>\n",
       "      <td>Gold</td>\n",
       "      <td>1500000</td>\n",
       "      <td>C1</td>\n",
       "      <td>Self Employed</td>\n",
       "    </tr>\n",
       "    <tr>\n",
       "      <th>1</th>\n",
       "      <td>2</td>\n",
       "      <td>A2</td>\n",
       "      <td>56</td>\n",
       "      <td>CALCUTTA</td>\n",
       "      <td>Silver</td>\n",
       "      <td>300000</td>\n",
       "      <td>C2</td>\n",
       "      <td>Salaried_MNC</td>\n",
       "    </tr>\n",
       "    <tr>\n",
       "      <th>2</th>\n",
       "      <td>3</td>\n",
       "      <td>A3</td>\n",
       "      <td>30</td>\n",
       "      <td>COCHIN</td>\n",
       "      <td>Platimum</td>\n",
       "      <td>540000</td>\n",
       "      <td>C3</td>\n",
       "      <td>Salaried_Pvt</td>\n",
       "    </tr>\n",
       "    <tr>\n",
       "      <th>3</th>\n",
       "      <td>4</td>\n",
       "      <td>A4</td>\n",
       "      <td>22</td>\n",
       "      <td>BOMBAY</td>\n",
       "      <td>Platimum</td>\n",
       "      <td>840084</td>\n",
       "      <td>C4</td>\n",
       "      <td>Govt</td>\n",
       "    </tr>\n",
       "    <tr>\n",
       "      <th>4</th>\n",
       "      <td>5</td>\n",
       "      <td>A5</td>\n",
       "      <td>59</td>\n",
       "      <td>BANGALORE</td>\n",
       "      <td>Platimum</td>\n",
       "      <td>420084</td>\n",
       "      <td>C5</td>\n",
       "      <td>Normal Salary</td>\n",
       "    </tr>\n",
       "  </tbody>\n",
       "</table>\n",
       "</div>"
      ],
      "text/plain": [
       "   No Customer  Age       City   Product    Limit Company        Segment\n",
       "0   1       A1   47  BANGALORE      Gold  1500000      C1  Self Employed\n",
       "1   2       A2   56   CALCUTTA    Silver   300000      C2   Salaried_MNC\n",
       "2   3       A3   30     COCHIN  Platimum   540000      C3   Salaried_Pvt\n",
       "3   4       A4   22     BOMBAY  Platimum   840084      C4           Govt\n",
       "4   5       A5   59  BANGALORE  Platimum   420084      C5  Normal Salary"
      ]
     },
     "execution_count": 2,
     "metadata": {},
     "output_type": "execute_result"
    }
   ],
   "source": [
    "customer_df = pd.read_excel(\"Credit Card Data.xlsx\", sheet_name=0)\n",
    "customer_df.head()"
   ]
  },
  {
   "cell_type": "code",
   "execution_count": 3,
   "metadata": {},
   "outputs": [
    {
     "data": {
      "text/html": [
       "<div>\n",
       "<style scoped>\n",
       "    .dataframe tbody tr th:only-of-type {\n",
       "        vertical-align: middle;\n",
       "    }\n",
       "\n",
       "    .dataframe tbody tr th {\n",
       "        vertical-align: top;\n",
       "    }\n",
       "\n",
       "    .dataframe thead th {\n",
       "        text-align: right;\n",
       "    }\n",
       "</style>\n",
       "<table border=\"1\" class=\"dataframe\">\n",
       "  <thead>\n",
       "    <tr style=\"text-align: right;\">\n",
       "      <th></th>\n",
       "      <th>Sl No:</th>\n",
       "      <th>Customer</th>\n",
       "      <th>Month</th>\n",
       "      <th>Type</th>\n",
       "      <th>Amount</th>\n",
       "    </tr>\n",
       "  </thead>\n",
       "  <tbody>\n",
       "    <tr>\n",
       "      <th>0</th>\n",
       "      <td>1</td>\n",
       "      <td>A1</td>\n",
       "      <td>2004-01-12</td>\n",
       "      <td>JEWELLERY</td>\n",
       "      <td>344054.980813</td>\n",
       "    </tr>\n",
       "    <tr>\n",
       "      <th>1</th>\n",
       "      <td>2</td>\n",
       "      <td>A1</td>\n",
       "      <td>2004-01-03</td>\n",
       "      <td>PETRO</td>\n",
       "      <td>935.495203</td>\n",
       "    </tr>\n",
       "    <tr>\n",
       "      <th>2</th>\n",
       "      <td>3</td>\n",
       "      <td>A1</td>\n",
       "      <td>2004-01-15</td>\n",
       "      <td>CLOTHES</td>\n",
       "      <td>8687.895474</td>\n",
       "    </tr>\n",
       "    <tr>\n",
       "      <th>3</th>\n",
       "      <td>4</td>\n",
       "      <td>A1</td>\n",
       "      <td>2004-01-25</td>\n",
       "      <td>FOOD</td>\n",
       "      <td>341.159711</td>\n",
       "    </tr>\n",
       "    <tr>\n",
       "      <th>4</th>\n",
       "      <td>5</td>\n",
       "      <td>A1</td>\n",
       "      <td>2005-01-17</td>\n",
       "      <td>CAMERA</td>\n",
       "      <td>3406.639477</td>\n",
       "    </tr>\n",
       "  </tbody>\n",
       "</table>\n",
       "</div>"
      ],
      "text/plain": [
       "   Sl No: Customer      Month       Type         Amount\n",
       "0       1       A1 2004-01-12  JEWELLERY  344054.980813\n",
       "1       2       A1 2004-01-03      PETRO     935.495203\n",
       "2       3       A1 2004-01-15    CLOTHES    8687.895474\n",
       "3       4       A1 2004-01-25       FOOD     341.159711\n",
       "4       5       A1 2005-01-17     CAMERA    3406.639477"
      ]
     },
     "execution_count": 3,
     "metadata": {},
     "output_type": "execute_result"
    }
   ],
   "source": [
    "trans_df = pd.read_excel(\"Credit Card Data.xlsx\", sheet_name=1)\n",
    "trans_df.head()"
   ]
  },
  {
   "cell_type": "code",
   "execution_count": 4,
   "metadata": {},
   "outputs": [
    {
     "data": {
      "text/html": [
       "<div>\n",
       "<style scoped>\n",
       "    .dataframe tbody tr th:only-of-type {\n",
       "        vertical-align: middle;\n",
       "    }\n",
       "\n",
       "    .dataframe tbody tr th {\n",
       "        vertical-align: top;\n",
       "    }\n",
       "\n",
       "    .dataframe thead th {\n",
       "        text-align: right;\n",
       "    }\n",
       "</style>\n",
       "<table border=\"1\" class=\"dataframe\">\n",
       "  <thead>\n",
       "    <tr style=\"text-align: right;\">\n",
       "      <th></th>\n",
       "      <th>SL No:</th>\n",
       "      <th>Customer</th>\n",
       "      <th>Month</th>\n",
       "      <th>Amount</th>\n",
       "    </tr>\n",
       "  </thead>\n",
       "  <tbody>\n",
       "    <tr>\n",
       "      <th>0</th>\n",
       "      <td>1</td>\n",
       "      <td>A1</td>\n",
       "      <td>2006-05-15</td>\n",
       "      <td>2.308473e+05</td>\n",
       "    </tr>\n",
       "    <tr>\n",
       "      <th>1</th>\n",
       "      <td>2</td>\n",
       "      <td>A1</td>\n",
       "      <td>2005-08-27</td>\n",
       "      <td>1.835124e+03</td>\n",
       "    </tr>\n",
       "    <tr>\n",
       "      <th>2</th>\n",
       "      <td>3</td>\n",
       "      <td>A1</td>\n",
       "      <td>2004-03-07</td>\n",
       "      <td>4.858701e+03</td>\n",
       "    </tr>\n",
       "    <tr>\n",
       "      <th>3</th>\n",
       "      <td>4</td>\n",
       "      <td>A1</td>\n",
       "      <td>2005-03-01</td>\n",
       "      <td>1.360527e+06</td>\n",
       "    </tr>\n",
       "    <tr>\n",
       "      <th>4</th>\n",
       "      <td>5</td>\n",
       "      <td>A1</td>\n",
       "      <td>2004-02-14</td>\n",
       "      <td>1.902322e+05</td>\n",
       "    </tr>\n",
       "  </tbody>\n",
       "</table>\n",
       "</div>"
      ],
      "text/plain": [
       "   SL No: Customer      Month        Amount\n",
       "0       1       A1 2006-05-15  2.308473e+05\n",
       "1       2       A1 2005-08-27  1.835124e+03\n",
       "2       3       A1 2004-03-07  4.858701e+03\n",
       "3       4       A1 2005-03-01  1.360527e+06\n",
       "4       5       A1 2004-02-14  1.902322e+05"
      ]
     },
     "execution_count": 4,
     "metadata": {},
     "output_type": "execute_result"
    }
   ],
   "source": [
    "payment_df = pd.read_excel(\"Credit Card Data.xlsx\", sheet_name=2)\n",
    "payment_df.head()"
   ]
  },
  {
   "cell_type": "code",
   "execution_count": 5,
   "metadata": {},
   "outputs": [
    {
     "name": "stdout",
     "output_type": "stream",
     "text": [
      "<class 'pandas.core.frame.DataFrame'>\n",
      "RangeIndex: 100 entries, 0 to 99\n",
      "Data columns (total 8 columns):\n",
      " #   Column    Non-Null Count  Dtype \n",
      "---  ------    --------------  ----- \n",
      " 0   No        100 non-null    int64 \n",
      " 1   Customer  100 non-null    object\n",
      " 2   Age       100 non-null    int64 \n",
      " 3   City      100 non-null    object\n",
      " 4   Product   100 non-null    object\n",
      " 5   Limit     100 non-null    int64 \n",
      " 6   Company   100 non-null    object\n",
      " 7   Segment   100 non-null    object\n",
      "dtypes: int64(3), object(5)\n",
      "memory usage: 6.4+ KB\n"
     ]
    }
   ],
   "source": [
    "# Any missing values?\n",
    "customer_df.info()"
   ]
  },
  {
   "cell_type": "code",
   "execution_count": 6,
   "metadata": {},
   "outputs": [
    {
     "data": {
      "text/plain": [
       "No           int64\n",
       "Customer    object\n",
       "Age          int64\n",
       "City        object\n",
       "Product     object\n",
       "Limit        int64\n",
       "Company     object\n",
       "Segment     object\n",
       "dtype: object"
      ]
     },
     "execution_count": 6,
     "metadata": {},
     "output_type": "execute_result"
    }
   ],
   "source": [
    "#Let's check if the data type is correct\n",
    "customer_df.dtypes"
   ]
  },
  {
   "cell_type": "code",
   "execution_count": 7,
   "metadata": {},
   "outputs": [
    {
     "data": {
      "text/plain": [
       "count    100.000000\n",
       "mean      46.460000\n",
       "std       17.816925\n",
       "min       14.000000\n",
       "25%       30.000000\n",
       "50%       47.500000\n",
       "75%       62.250000\n",
       "max       75.000000\n",
       "Name: Age, dtype: float64"
      ]
     },
     "execution_count": 7,
     "metadata": {},
     "output_type": "execute_result"
    }
   ],
   "source": [
    "customer_df.Age.describe()"
   ]
  },
  {
   "cell_type": "markdown",
   "metadata": {},
   "source": [
    "######  Age can't be less than 18. In case age is less than 18, let's replace it with mean of age values."
   ]
  },
  {
   "cell_type": "code",
   "execution_count": 8,
   "metadata": {},
   "outputs": [
    {
     "data": {
      "text/plain": [
       "count    100.000000\n",
       "mean      47.393800\n",
       "std       16.946251\n",
       "min       18.000000\n",
       "25%       33.000000\n",
       "50%       47.500000\n",
       "75%       62.250000\n",
       "max       75.000000\n",
       "Name: Age, dtype: float64"
      ]
     },
     "execution_count": 8,
     "metadata": {},
     "output_type": "execute_result"
    }
   ],
   "source": [
    "#df.loc[ condition, column]\n",
    "\n",
    "customer_df.loc[(customer_df.Age < 18),'Age']=customer_df.Age.mean()\n",
    "customer_df.Age.describe()"
   ]
  },
  {
   "cell_type": "code",
   "execution_count": 9,
   "metadata": {},
   "outputs": [
    {
     "name": "stdout",
     "output_type": "stream",
     "text": [
      "<class 'pandas.core.frame.DataFrame'>\n",
      "RangeIndex: 1505 entries, 0 to 1504\n",
      "Data columns (total 5 columns):\n",
      " #   Column    Non-Null Count  Dtype         \n",
      "---  ------    --------------  -----         \n",
      " 0   Sl No:    1505 non-null   int64         \n",
      " 1   Customer  1504 non-null   object        \n",
      " 2   Month     1502 non-null   datetime64[ns]\n",
      " 3   Type      1505 non-null   object        \n",
      " 4   Amount    1502 non-null   float64       \n",
      "dtypes: datetime64[ns](1), float64(1), int64(1), object(2)\n",
      "memory usage: 58.9+ KB\n"
     ]
    }
   ],
   "source": [
    "#let's peek into the transactions\n",
    "trans_df.info()"
   ]
  },
  {
   "cell_type": "code",
   "execution_count": 11,
   "metadata": {},
   "outputs": [
    {
     "name": "stdout",
     "output_type": "stream",
     "text": [
      "<class 'pandas.core.frame.DataFrame'>\n",
      "Int64Index: 1500 entries, 0 to 1499\n",
      "Data columns (total 5 columns):\n",
      " #   Column    Non-Null Count  Dtype         \n",
      "---  ------    --------------  -----         \n",
      " 0   Sl No:    1500 non-null   int64         \n",
      " 1   Customer  1500 non-null   object        \n",
      " 2   Month     1500 non-null   datetime64[ns]\n",
      " 3   Type      1500 non-null   object        \n",
      " 4   Amount    1500 non-null   float64       \n",
      "dtypes: datetime64[ns](1), float64(1), int64(1), object(2)\n",
      "memory usage: 70.3+ KB\n"
     ]
    }
   ],
   "source": [
    "# Let's drop the 2 rows with missing values\n",
    "trans_df.dropna(how=\"any\",axis=0, inplace=True)                                       \n",
    "trans_df.info()                                            # What's wrong with this?? "
   ]
  },
  {
   "cell_type": "code",
   "execution_count": 12,
   "metadata": {},
   "outputs": [
    {
     "name": "stdout",
     "output_type": "stream",
     "text": [
      "<class 'pandas.core.frame.DataFrame'>\n",
      "Int64Index: 1500 entries, 0 to 1499\n",
      "Data columns (total 5 columns):\n",
      " #   Column    Non-Null Count  Dtype         \n",
      "---  ------    --------------  -----         \n",
      " 0   Sl No:    1500 non-null   int64         \n",
      " 1   Customer  1500 non-null   object        \n",
      " 2   Month     1500 non-null   datetime64[ns]\n",
      " 3   Type      1500 non-null   object        \n",
      " 4   Amount    1500 non-null   float64       \n",
      "dtypes: datetime64[ns](1), float64(1), int64(1), object(2)\n",
      "memory usage: 70.3+ KB\n"
     ]
    }
   ],
   "source": [
    "trans_df.info()"
   ]
  },
  {
   "cell_type": "code",
   "execution_count": 13,
   "metadata": {},
   "outputs": [
    {
     "data": {
      "text/plain": [
       "Sl No:               int64\n",
       "Customer            object\n",
       "Month       datetime64[ns]\n",
       "Type                object\n",
       "Amount             float64\n",
       "dtype: object"
      ]
     },
     "execution_count": 13,
     "metadata": {},
     "output_type": "execute_result"
    }
   ],
   "source": [
    "trans_df.dtypes"
   ]
  },
  {
   "cell_type": "markdown",
   "metadata": {},
   "source": [
    "##### How many customers are there?"
   ]
  },
  {
   "cell_type": "code",
   "execution_count": 14,
   "metadata": {},
   "outputs": [
    {
     "data": {
      "text/plain": [
       "100"
      ]
     },
     "execution_count": 14,
     "metadata": {},
     "output_type": "execute_result"
    }
   ],
   "source": [
    "trans_df.Customer.nunique()"
   ]
  },
  {
   "cell_type": "markdown",
   "metadata": {},
   "source": [
    "##### What are the spend categories? "
   ]
  },
  {
   "cell_type": "code",
   "execution_count": 15,
   "metadata": {},
   "outputs": [
    {
     "data": {
      "text/plain": [
       "PETRO           200\n",
       "FOOD            160\n",
       "CAMERA          160\n",
       "AIR TICKET      147\n",
       "TRAIN TICKET    132\n",
       "SHOPPING        113\n",
       "BUS TICKET       99\n",
       "CLOTHES          95\n",
       "JEWELLERY        95\n",
       "MOVIE TICKET     76\n",
       "RENTAL           76\n",
       "BIKE             49\n",
       "AUTO             40\n",
       "CAR              30\n",
       "SANDALS          28\n",
       "Name: Type, dtype: int64"
      ]
     },
     "execution_count": 15,
     "metadata": {},
     "output_type": "execute_result"
    }
   ],
   "source": [
    "trans_df.Type.value_counts()"
   ]
  },
  {
   "cell_type": "markdown",
   "metadata": {},
   "source": [
    "##### Which category has the highest average spend?"
   ]
  },
  {
   "cell_type": "code",
   "execution_count": 16,
   "metadata": {},
   "outputs": [
    {
     "data": {
      "text/plain": [
       "Type\n",
       "CAR             409143.47\n",
       "AIR TICKET      254632.19\n",
       "JEWELLERY       239218.69\n",
       "BIKE            210701.27\n",
       "AUTO             27320.76\n",
       "CLOTHES          25140.16\n",
       "CAMERA           21499.80\n",
       "RENTAL           13106.51\n",
       "BUS TICKET       12681.03\n",
       "SHOPPING          7394.33\n",
       "SANDALS           2516.63\n",
       "MOVIE TICKET      1875.30\n",
       "TRAIN TICKET      1627.49\n",
       "PETRO              549.48\n",
       "FOOD               341.17\n",
       "Name: Amount, dtype: float64"
      ]
     },
     "execution_count": 16,
     "metadata": {},
     "output_type": "execute_result"
    }
   ],
   "source": [
    "trans_df.groupby(\"Type\")['Amount'].mean().sort_values(ascending=False).round(2)"
   ]
  },
  {
   "cell_type": "code",
   "execution_count": 18,
   "metadata": {},
   "outputs": [
    {
     "data": {
      "text/html": [
       "<div>\n",
       "<style scoped>\n",
       "    .dataframe tbody tr th:only-of-type {\n",
       "        vertical-align: middle;\n",
       "    }\n",
       "\n",
       "    .dataframe tbody tr th {\n",
       "        vertical-align: top;\n",
       "    }\n",
       "\n",
       "    .dataframe thead th {\n",
       "        text-align: right;\n",
       "    }\n",
       "</style>\n",
       "<table border=\"1\" class=\"dataframe\">\n",
       "  <thead>\n",
       "    <tr style=\"text-align: right;\">\n",
       "      <th></th>\n",
       "      <th>Sl No:</th>\n",
       "      <th>Customer</th>\n",
       "      <th>Month</th>\n",
       "      <th>Type</th>\n",
       "      <th>Amount</th>\n",
       "    </tr>\n",
       "  </thead>\n",
       "  <tbody>\n",
       "    <tr>\n",
       "      <th>617</th>\n",
       "      <td>618</td>\n",
       "      <td>A27</td>\n",
       "      <td>2005-02-01</td>\n",
       "      <td>AIR TICKET</td>\n",
       "      <td>293073.468809</td>\n",
       "    </tr>\n",
       "    <tr>\n",
       "      <th>1053</th>\n",
       "      <td>1054</td>\n",
       "      <td>A43</td>\n",
       "      <td>2005-02-01</td>\n",
       "      <td>AIR TICKET</td>\n",
       "      <td>297315.073489</td>\n",
       "    </tr>\n",
       "    <tr>\n",
       "      <th>1300</th>\n",
       "      <td>1301</td>\n",
       "      <td>A58</td>\n",
       "      <td>2004-01-25</td>\n",
       "      <td>AIR TICKET</td>\n",
       "      <td>287118.692226</td>\n",
       "    </tr>\n",
       "    <tr>\n",
       "      <th>1244</th>\n",
       "      <td>1245</td>\n",
       "      <td>A60</td>\n",
       "      <td>2005-06-01</td>\n",
       "      <td>AIR TICKET</td>\n",
       "      <td>123992.757551</td>\n",
       "    </tr>\n",
       "    <tr>\n",
       "      <th>741</th>\n",
       "      <td>742</td>\n",
       "      <td>A35</td>\n",
       "      <td>2006-03-29</td>\n",
       "      <td>AIR TICKET</td>\n",
       "      <td>184598.845487</td>\n",
       "    </tr>\n",
       "  </tbody>\n",
       "</table>\n",
       "</div>"
      ],
      "text/plain": [
       "      Sl No: Customer      Month        Type         Amount\n",
       "617      618      A27 2005-02-01  AIR TICKET  293073.468809\n",
       "1053    1054      A43 2005-02-01  AIR TICKET  297315.073489\n",
       "1300    1301      A58 2004-01-25  AIR TICKET  287118.692226\n",
       "1244    1245      A60 2005-06-01  AIR TICKET  123992.757551\n",
       "741      742      A35 2006-03-29  AIR TICKET  184598.845487"
      ]
     },
     "execution_count": 18,
     "metadata": {},
     "output_type": "execute_result"
    }
   ],
   "source": [
    "#Are air tickets this expensive??\n",
    "trans_df[trans_df['Type'] == 'AIR TICKET'].sample(5)"
   ]
  },
  {
   "cell_type": "code",
   "execution_count": 19,
   "metadata": {},
   "outputs": [
    {
     "data": {
      "text/html": [
       "<div>\n",
       "<style scoped>\n",
       "    .dataframe tbody tr th:only-of-type {\n",
       "        vertical-align: middle;\n",
       "    }\n",
       "\n",
       "    .dataframe tbody tr th {\n",
       "        vertical-align: top;\n",
       "    }\n",
       "\n",
       "    .dataframe thead th {\n",
       "        text-align: right;\n",
       "    }\n",
       "</style>\n",
       "<table border=\"1\" class=\"dataframe\">\n",
       "  <thead>\n",
       "    <tr style=\"text-align: right;\">\n",
       "      <th></th>\n",
       "      <th>Sl No:</th>\n",
       "      <th>Customer</th>\n",
       "      <th>Month</th>\n",
       "      <th>Type</th>\n",
       "      <th>Amount</th>\n",
       "    </tr>\n",
       "  </thead>\n",
       "  <tbody>\n",
       "    <tr>\n",
       "      <th>879</th>\n",
       "      <td>880</td>\n",
       "      <td>A28</td>\n",
       "      <td>2004-02-05</td>\n",
       "      <td>JEWELLERY</td>\n",
       "      <td>174222.088351</td>\n",
       "    </tr>\n",
       "    <tr>\n",
       "      <th>1433</th>\n",
       "      <td>1434</td>\n",
       "      <td>A46</td>\n",
       "      <td>2004-03-19</td>\n",
       "      <td>JEWELLERY</td>\n",
       "      <td>156577.195383</td>\n",
       "    </tr>\n",
       "    <tr>\n",
       "      <th>876</th>\n",
       "      <td>877</td>\n",
       "      <td>A25</td>\n",
       "      <td>2005-01-17</td>\n",
       "      <td>JEWELLERY</td>\n",
       "      <td>145186.789286</td>\n",
       "    </tr>\n",
       "    <tr>\n",
       "      <th>1373</th>\n",
       "      <td>1374</td>\n",
       "      <td>A44</td>\n",
       "      <td>2006-12-03</td>\n",
       "      <td>JEWELLERY</td>\n",
       "      <td>414053.781738</td>\n",
       "    </tr>\n",
       "    <tr>\n",
       "      <th>203</th>\n",
       "      <td>204</td>\n",
       "      <td>A4</td>\n",
       "      <td>2004-01-12</td>\n",
       "      <td>JEWELLERY</td>\n",
       "      <td>167875.828879</td>\n",
       "    </tr>\n",
       "  </tbody>\n",
       "</table>\n",
       "</div>"
      ],
      "text/plain": [
       "      Sl No: Customer      Month       Type         Amount\n",
       "879      880      A28 2004-02-05  JEWELLERY  174222.088351\n",
       "1433    1434      A46 2004-03-19  JEWELLERY  156577.195383\n",
       "876      877      A25 2005-01-17  JEWELLERY  145186.789286\n",
       "1373    1374      A44 2006-12-03  JEWELLERY  414053.781738\n",
       "203      204       A4 2004-01-12  JEWELLERY  167875.828879"
      ]
     },
     "execution_count": 19,
     "metadata": {},
     "output_type": "execute_result"
    }
   ],
   "source": [
    "trans_df[trans_df['Type'] == 'JEWELLERY'].sample(5)"
   ]
  },
  {
   "cell_type": "markdown",
   "metadata": {},
   "source": [
    "##### What is the average monthly spend by product categories? "
   ]
  },
  {
   "cell_type": "code",
   "execution_count": 20,
   "metadata": {},
   "outputs": [],
   "source": [
    "#lets create an actual month column from timestamp\n",
    "trans_df.rename(columns={'Month':'TransDate'}, inplace=True)"
   ]
  },
  {
   "cell_type": "code",
   "execution_count": 21,
   "metadata": {},
   "outputs": [],
   "source": [
    "trans_df['Month'] = trans_df['TransDate'].apply(lambda x:x.month)\n",
    "trans_df['Year'] = trans_df['TransDate'].apply(lambda x:x.year)"
   ]
  },
  {
   "cell_type": "code",
   "execution_count": 22,
   "metadata": {},
   "outputs": [
    {
     "data": {
      "text/html": [
       "<div>\n",
       "<style scoped>\n",
       "    .dataframe tbody tr th:only-of-type {\n",
       "        vertical-align: middle;\n",
       "    }\n",
       "\n",
       "    .dataframe tbody tr th {\n",
       "        vertical-align: top;\n",
       "    }\n",
       "\n",
       "    .dataframe thead th {\n",
       "        text-align: right;\n",
       "    }\n",
       "</style>\n",
       "<table border=\"1\" class=\"dataframe\">\n",
       "  <thead>\n",
       "    <tr style=\"text-align: right;\">\n",
       "      <th></th>\n",
       "      <th>Sl No:</th>\n",
       "      <th>Customer</th>\n",
       "      <th>TransDate</th>\n",
       "      <th>Type</th>\n",
       "      <th>Amount</th>\n",
       "      <th>Month</th>\n",
       "      <th>Year</th>\n",
       "    </tr>\n",
       "  </thead>\n",
       "  <tbody>\n",
       "    <tr>\n",
       "      <th>601</th>\n",
       "      <td>602</td>\n",
       "      <td>A21</td>\n",
       "      <td>2006-03-03</td>\n",
       "      <td>AUTO</td>\n",
       "      <td>49325.410672</td>\n",
       "      <td>3</td>\n",
       "      <td>2006</td>\n",
       "    </tr>\n",
       "    <tr>\n",
       "      <th>537</th>\n",
       "      <td>538</td>\n",
       "      <td>A14</td>\n",
       "      <td>2004-01-25</td>\n",
       "      <td>AIR TICKET</td>\n",
       "      <td>332108.086033</td>\n",
       "      <td>1</td>\n",
       "      <td>2004</td>\n",
       "    </tr>\n",
       "    <tr>\n",
       "      <th>212</th>\n",
       "      <td>213</td>\n",
       "      <td>A13</td>\n",
       "      <td>2004-01-03</td>\n",
       "      <td>AIR TICKET</td>\n",
       "      <td>252495.314429</td>\n",
       "      <td>1</td>\n",
       "      <td>2004</td>\n",
       "    </tr>\n",
       "    <tr>\n",
       "      <th>156</th>\n",
       "      <td>157</td>\n",
       "      <td>A13</td>\n",
       "      <td>2005-06-03</td>\n",
       "      <td>TRAIN TICKET</td>\n",
       "      <td>3285.594220</td>\n",
       "      <td>6</td>\n",
       "      <td>2005</td>\n",
       "    </tr>\n",
       "    <tr>\n",
       "      <th>1145</th>\n",
       "      <td>1146</td>\n",
       "      <td>A48</td>\n",
       "      <td>2006-02-03</td>\n",
       "      <td>BIKE</td>\n",
       "      <td>34087.762919</td>\n",
       "      <td>2</td>\n",
       "      <td>2006</td>\n",
       "    </tr>\n",
       "  </tbody>\n",
       "</table>\n",
       "</div>"
      ],
      "text/plain": [
       "      Sl No: Customer  TransDate          Type         Amount  Month  Year\n",
       "601      602      A21 2006-03-03          AUTO   49325.410672      3  2006\n",
       "537      538      A14 2004-01-25    AIR TICKET  332108.086033      1  2004\n",
       "212      213      A13 2004-01-03    AIR TICKET  252495.314429      1  2004\n",
       "156      157      A13 2005-06-03  TRAIN TICKET    3285.594220      6  2005\n",
       "1145    1146      A48 2006-02-03          BIKE   34087.762919      2  2006"
      ]
     },
     "execution_count": 22,
     "metadata": {},
     "output_type": "execute_result"
    }
   ],
   "source": [
    "trans_df.sample(5)"
   ]
  },
  {
   "cell_type": "code",
   "execution_count": 23,
   "metadata": {},
   "outputs": [],
   "source": [
    "spend_df=trans_df.groupby(['Year','Month','Type'], as_index=False)['Amount'].mean().round(2)        #2 decimal places"
   ]
  },
  {
   "cell_type": "code",
   "execution_count": 24,
   "metadata": {},
   "outputs": [
    {
     "data": {
      "text/html": [
       "<div>\n",
       "<style scoped>\n",
       "    .dataframe tbody tr th:only-of-type {\n",
       "        vertical-align: middle;\n",
       "    }\n",
       "\n",
       "    .dataframe tbody tr th {\n",
       "        vertical-align: top;\n",
       "    }\n",
       "\n",
       "    .dataframe thead th {\n",
       "        text-align: right;\n",
       "    }\n",
       "</style>\n",
       "<table border=\"1\" class=\"dataframe\">\n",
       "  <thead>\n",
       "    <tr style=\"text-align: right;\">\n",
       "      <th></th>\n",
       "      <th>Year</th>\n",
       "      <th>Month</th>\n",
       "      <th>Type</th>\n",
       "      <th>Amount</th>\n",
       "    </tr>\n",
       "  </thead>\n",
       "  <tbody>\n",
       "    <tr>\n",
       "      <th>0</th>\n",
       "      <td>2004</td>\n",
       "      <td>1</td>\n",
       "      <td>AIR TICKET</td>\n",
       "      <td>257735.68</td>\n",
       "    </tr>\n",
       "    <tr>\n",
       "      <th>1</th>\n",
       "      <td>2004</td>\n",
       "      <td>1</td>\n",
       "      <td>AUTO</td>\n",
       "      <td>16260.27</td>\n",
       "    </tr>\n",
       "    <tr>\n",
       "      <th>2</th>\n",
       "      <td>2004</td>\n",
       "      <td>1</td>\n",
       "      <td>BIKE</td>\n",
       "      <td>176136.06</td>\n",
       "    </tr>\n",
       "    <tr>\n",
       "      <th>3</th>\n",
       "      <td>2004</td>\n",
       "      <td>1</td>\n",
       "      <td>BUS TICKET</td>\n",
       "      <td>10181.61</td>\n",
       "    </tr>\n",
       "    <tr>\n",
       "      <th>4</th>\n",
       "      <td>2004</td>\n",
       "      <td>1</td>\n",
       "      <td>CAMERA</td>\n",
       "      <td>20912.67</td>\n",
       "    </tr>\n",
       "  </tbody>\n",
       "</table>\n",
       "</div>"
      ],
      "text/plain": [
       "   Year  Month        Type     Amount\n",
       "0  2004      1  AIR TICKET  257735.68\n",
       "1  2004      1        AUTO   16260.27\n",
       "2  2004      1        BIKE  176136.06\n",
       "3  2004      1  BUS TICKET   10181.61\n",
       "4  2004      1      CAMERA   20912.67"
      ]
     },
     "execution_count": 24,
     "metadata": {},
     "output_type": "execute_result"
    }
   ],
   "source": [
    "spend_df.head()"
   ]
  },
  {
   "cell_type": "code",
   "execution_count": 25,
   "metadata": {},
   "outputs": [],
   "source": [
    "# pivot the data - need multiple index so use pivot_table() instead of pivot()\n",
    "spend_pivot = pd.pivot_table(spend_df, index=['Year','Month'], columns='Type', values='Amount')"
   ]
  },
  {
   "cell_type": "code",
   "execution_count": 26,
   "metadata": {},
   "outputs": [
    {
     "data": {
      "text/html": [
       "<div>\n",
       "<style scoped>\n",
       "    .dataframe tbody tr th:only-of-type {\n",
       "        vertical-align: middle;\n",
       "    }\n",
       "\n",
       "    .dataframe tbody tr th {\n",
       "        vertical-align: top;\n",
       "    }\n",
       "\n",
       "    .dataframe thead th {\n",
       "        text-align: right;\n",
       "    }\n",
       "</style>\n",
       "<table border=\"1\" class=\"dataframe\">\n",
       "  <thead>\n",
       "    <tr style=\"text-align: right;\">\n",
       "      <th></th>\n",
       "      <th>Type</th>\n",
       "      <th>AIR TICKET</th>\n",
       "      <th>AUTO</th>\n",
       "      <th>BIKE</th>\n",
       "      <th>BUS TICKET</th>\n",
       "      <th>CAMERA</th>\n",
       "      <th>CAR</th>\n",
       "      <th>CLOTHES</th>\n",
       "      <th>FOOD</th>\n",
       "      <th>JEWELLERY</th>\n",
       "      <th>MOVIE TICKET</th>\n",
       "      <th>PETRO</th>\n",
       "      <th>RENTAL</th>\n",
       "      <th>SANDALS</th>\n",
       "      <th>SHOPPING</th>\n",
       "      <th>TRAIN TICKET</th>\n",
       "    </tr>\n",
       "    <tr>\n",
       "      <th>Year</th>\n",
       "      <th>Month</th>\n",
       "      <th></th>\n",
       "      <th></th>\n",
       "      <th></th>\n",
       "      <th></th>\n",
       "      <th></th>\n",
       "      <th></th>\n",
       "      <th></th>\n",
       "      <th></th>\n",
       "      <th></th>\n",
       "      <th></th>\n",
       "      <th></th>\n",
       "      <th></th>\n",
       "      <th></th>\n",
       "      <th></th>\n",
       "      <th></th>\n",
       "    </tr>\n",
       "  </thead>\n",
       "  <tbody>\n",
       "    <tr>\n",
       "      <th>2005</th>\n",
       "      <th>1</th>\n",
       "      <td>303015.61</td>\n",
       "      <td>NaN</td>\n",
       "      <td>213492.29</td>\n",
       "      <td>NaN</td>\n",
       "      <td>22898.55</td>\n",
       "      <td>NaN</td>\n",
       "      <td>11379.71</td>\n",
       "      <td>294.04</td>\n",
       "      <td>145186.79</td>\n",
       "      <td>NaN</td>\n",
       "      <td>706.23</td>\n",
       "      <td>22198.62</td>\n",
       "      <td>NaN</td>\n",
       "      <td>18674.76</td>\n",
       "      <td>NaN</td>\n",
       "    </tr>\n",
       "    <tr>\n",
       "      <th rowspan=\"2\" valign=\"top\">2004</th>\n",
       "      <th>11</th>\n",
       "      <td>209883.26</td>\n",
       "      <td>NaN</td>\n",
       "      <td>341651.68</td>\n",
       "      <td>5716.70</td>\n",
       "      <td>NaN</td>\n",
       "      <td>459281.33</td>\n",
       "      <td>NaN</td>\n",
       "      <td>222.13</td>\n",
       "      <td>NaN</td>\n",
       "      <td>NaN</td>\n",
       "      <td>701.65</td>\n",
       "      <td>NaN</td>\n",
       "      <td>NaN</td>\n",
       "      <td>NaN</td>\n",
       "      <td>NaN</td>\n",
       "    </tr>\n",
       "    <tr>\n",
       "      <th>5</th>\n",
       "      <td>NaN</td>\n",
       "      <td>NaN</td>\n",
       "      <td>NaN</td>\n",
       "      <td>2033.75</td>\n",
       "      <td>NaN</td>\n",
       "      <td>NaN</td>\n",
       "      <td>NaN</td>\n",
       "      <td>356.48</td>\n",
       "      <td>94116.63</td>\n",
       "      <td>NaN</td>\n",
       "      <td>NaN</td>\n",
       "      <td>9944.19</td>\n",
       "      <td>746.61</td>\n",
       "      <td>NaN</td>\n",
       "      <td>3329.75</td>\n",
       "    </tr>\n",
       "    <tr>\n",
       "      <th>2006</th>\n",
       "      <th>5</th>\n",
       "      <td>274384.02</td>\n",
       "      <td>25656.11</td>\n",
       "      <td>NaN</td>\n",
       "      <td>NaN</td>\n",
       "      <td>40368.97</td>\n",
       "      <td>361677.78</td>\n",
       "      <td>NaN</td>\n",
       "      <td>465.22</td>\n",
       "      <td>46430.20</td>\n",
       "      <td>1545.78</td>\n",
       "      <td>499.42</td>\n",
       "      <td>11171.27</td>\n",
       "      <td>NaN</td>\n",
       "      <td>10866.96</td>\n",
       "      <td>2424.86</td>\n",
       "    </tr>\n",
       "    <tr>\n",
       "      <th>2004</th>\n",
       "      <th>9</th>\n",
       "      <td>NaN</td>\n",
       "      <td>NaN</td>\n",
       "      <td>NaN</td>\n",
       "      <td>4813.98</td>\n",
       "      <td>NaN</td>\n",
       "      <td>389408.87</td>\n",
       "      <td>NaN</td>\n",
       "      <td>330.85</td>\n",
       "      <td>NaN</td>\n",
       "      <td>NaN</td>\n",
       "      <td>522.57</td>\n",
       "      <td>17341.00</td>\n",
       "      <td>NaN</td>\n",
       "      <td>NaN</td>\n",
       "      <td>2026.36</td>\n",
       "    </tr>\n",
       "  </tbody>\n",
       "</table>\n",
       "</div>"
      ],
      "text/plain": [
       "Type        AIR TICKET      AUTO       BIKE  BUS TICKET    CAMERA        CAR  \\\n",
       "Year Month                                                                     \n",
       "2005 1       303015.61       NaN  213492.29         NaN  22898.55        NaN   \n",
       "2004 11      209883.26       NaN  341651.68     5716.70       NaN  459281.33   \n",
       "     5             NaN       NaN        NaN     2033.75       NaN        NaN   \n",
       "2006 5       274384.02  25656.11        NaN         NaN  40368.97  361677.78   \n",
       "2004 9             NaN       NaN        NaN     4813.98       NaN  389408.87   \n",
       "\n",
       "Type         CLOTHES    FOOD  JEWELLERY  MOVIE TICKET   PETRO    RENTAL  \\\n",
       "Year Month                                                                \n",
       "2005 1      11379.71  294.04  145186.79           NaN  706.23  22198.62   \n",
       "2004 11          NaN  222.13        NaN           NaN  701.65       NaN   \n",
       "     5           NaN  356.48   94116.63           NaN     NaN   9944.19   \n",
       "2006 5           NaN  465.22   46430.20       1545.78  499.42  11171.27   \n",
       "2004 9           NaN  330.85        NaN           NaN  522.57  17341.00   \n",
       "\n",
       "Type        SANDALS  SHOPPING  TRAIN TICKET  \n",
       "Year Month                                   \n",
       "2005 1          NaN  18674.76           NaN  \n",
       "2004 11         NaN       NaN           NaN  \n",
       "     5       746.61       NaN       3329.75  \n",
       "2006 5          NaN  10866.96       2424.86  \n",
       "2004 9          NaN       NaN       2026.36  "
      ]
     },
     "execution_count": 26,
     "metadata": {},
     "output_type": "execute_result"
    }
   ],
   "source": [
    "spend_pivot.sample(5)"
   ]
  },
  {
   "cell_type": "code",
   "execution_count": 27,
   "metadata": {},
   "outputs": [
    {
     "name": "stdout",
     "output_type": "stream",
     "text": [
      "<class 'pandas.core.frame.DataFrame'>\n",
      "RangeIndex: 807 entries, 0 to 806\n",
      "Data columns (total 4 columns):\n",
      " #   Column    Non-Null Count  Dtype         \n",
      "---  ------    --------------  -----         \n",
      " 0   SL No:    807 non-null    int64         \n",
      " 1   Customer  807 non-null    object        \n",
      " 2   Month     803 non-null    datetime64[ns]\n",
      " 3   Amount    807 non-null    float64       \n",
      "dtypes: datetime64[ns](1), float64(1), int64(1), object(1)\n",
      "memory usage: 25.3+ KB\n"
     ]
    }
   ],
   "source": [
    "# Lets have a look at the repayment data\n",
    "payment_df.info()"
   ]
  },
  {
   "cell_type": "markdown",
   "metadata": {},
   "source": [
    "###### 4 rows have null in Month. Let's drop those."
   ]
  },
  {
   "cell_type": "code",
   "execution_count": 28,
   "metadata": {},
   "outputs": [
    {
     "name": "stdout",
     "output_type": "stream",
     "text": [
      "<class 'pandas.core.frame.DataFrame'>\n",
      "Int64Index: 803 entries, 0 to 806\n",
      "Data columns (total 4 columns):\n",
      " #   Column    Non-Null Count  Dtype         \n",
      "---  ------    --------------  -----         \n",
      " 0   SL No:    803 non-null    int64         \n",
      " 1   Customer  803 non-null    object        \n",
      " 2   Month     803 non-null    datetime64[ns]\n",
      " 3   Amount    803 non-null    float64       \n",
      "dtypes: datetime64[ns](1), float64(1), int64(1), object(1)\n",
      "memory usage: 31.4+ KB\n"
     ]
    }
   ],
   "source": [
    "payment_df.dropna(how=\"any\",axis=0, inplace=True)                                       \n",
    "payment_df.info()                                            # What's wrong with this?? "
   ]
  },
  {
   "cell_type": "markdown",
   "metadata": {},
   "source": [
    "###### How many unique customers are there ?"
   ]
  },
  {
   "cell_type": "code",
   "execution_count": 29,
   "metadata": {},
   "outputs": [
    {
     "data": {
      "text/plain": [
       "100"
      ]
     },
     "execution_count": 29,
     "metadata": {},
     "output_type": "execute_result"
    }
   ],
   "source": [
    "payment_df.Customer.nunique()"
   ]
  },
  {
   "cell_type": "markdown",
   "metadata": {},
   "source": [
    "##### Who are the top 10 customers in terms of repayment?"
   ]
  },
  {
   "cell_type": "code",
   "execution_count": 30,
   "metadata": {},
   "outputs": [
    {
     "data": {
      "text/plain": [
       "Customer\n",
       "A47    4.092247e+06\n",
       "A61    2.776651e+06\n",
       "A58    2.711600e+06\n",
       "A56    2.372900e+06\n",
       "A48    2.110238e+06\n",
       "A36    2.068917e+06\n",
       "A44    2.003032e+06\n",
       "A24    1.998198e+06\n",
       "A49    1.919454e+06\n",
       "A42    1.841543e+06\n",
       "Name: Amount, dtype: float64"
      ]
     },
     "execution_count": 30,
     "metadata": {},
     "output_type": "execute_result"
    }
   ],
   "source": [
    "topcust_df = payment_df.groupby('Customer')['Amount'].sum().sort_values(ascending=False)\n",
    "topcust_df.head(10)"
   ]
  },
  {
   "cell_type": "markdown",
   "metadata": {},
   "source": [
    "##### How does spend compare to payment?"
   ]
  },
  {
   "cell_type": "code",
   "execution_count": 31,
   "metadata": {},
   "outputs": [],
   "source": [
    "#Merge customer data with transaction data \n",
    "cust_trans_df = pd.merge(customer_df , trans_df , on = 'Customer' , how = 'left')"
   ]
  },
  {
   "cell_type": "code",
   "execution_count": 32,
   "metadata": {},
   "outputs": [
    {
     "data": {
      "text/html": [
       "<div>\n",
       "<style scoped>\n",
       "    .dataframe tbody tr th:only-of-type {\n",
       "        vertical-align: middle;\n",
       "    }\n",
       "\n",
       "    .dataframe tbody tr th {\n",
       "        vertical-align: top;\n",
       "    }\n",
       "\n",
       "    .dataframe thead th {\n",
       "        text-align: right;\n",
       "    }\n",
       "</style>\n",
       "<table border=\"1\" class=\"dataframe\">\n",
       "  <thead>\n",
       "    <tr style=\"text-align: right;\">\n",
       "      <th></th>\n",
       "      <th>No</th>\n",
       "      <th>Customer</th>\n",
       "      <th>Age</th>\n",
       "      <th>City</th>\n",
       "      <th>Product</th>\n",
       "      <th>Limit</th>\n",
       "      <th>Company</th>\n",
       "      <th>Segment</th>\n",
       "      <th>Sl No:</th>\n",
       "      <th>TransDate</th>\n",
       "      <th>Type</th>\n",
       "      <th>Amount</th>\n",
       "      <th>Month</th>\n",
       "      <th>Year</th>\n",
       "    </tr>\n",
       "  </thead>\n",
       "  <tbody>\n",
       "    <tr>\n",
       "      <th>1344</th>\n",
       "      <td>59</td>\n",
       "      <td>A59</td>\n",
       "      <td>74.0</td>\n",
       "      <td>BANGALORE</td>\n",
       "      <td>Silver</td>\n",
       "      <td>300009</td>\n",
       "      <td>C21</td>\n",
       "      <td>Normal Salary</td>\n",
       "      <td>1157</td>\n",
       "      <td>2004-01-12</td>\n",
       "      <td>FOOD</td>\n",
       "      <td>537.879790</td>\n",
       "      <td>1</td>\n",
       "      <td>2004</td>\n",
       "    </tr>\n",
       "    <tr>\n",
       "      <th>22</th>\n",
       "      <td>2</td>\n",
       "      <td>A2</td>\n",
       "      <td>56.0</td>\n",
       "      <td>CALCUTTA</td>\n",
       "      <td>Silver</td>\n",
       "      <td>300000</td>\n",
       "      <td>C2</td>\n",
       "      <td>Salaried_MNC</td>\n",
       "      <td>160</td>\n",
       "      <td>2005-09-03</td>\n",
       "      <td>JEWELLERY</td>\n",
       "      <td>141772.645597</td>\n",
       "      <td>9</td>\n",
       "      <td>2005</td>\n",
       "    </tr>\n",
       "    <tr>\n",
       "      <th>127</th>\n",
       "      <td>9</td>\n",
       "      <td>A9</td>\n",
       "      <td>63.0</td>\n",
       "      <td>CHENNAI</td>\n",
       "      <td>Silver</td>\n",
       "      <td>600000</td>\n",
       "      <td>C9</td>\n",
       "      <td>Govt</td>\n",
       "      <td>195</td>\n",
       "      <td>2006-03-27</td>\n",
       "      <td>FOOD</td>\n",
       "      <td>507.437171</td>\n",
       "      <td>3</td>\n",
       "      <td>2006</td>\n",
       "    </tr>\n",
       "    <tr>\n",
       "      <th>659</th>\n",
       "      <td>30</td>\n",
       "      <td>A30</td>\n",
       "      <td>69.0</td>\n",
       "      <td>BANGALORE</td>\n",
       "      <td>Gold</td>\n",
       "      <td>1500000</td>\n",
       "      <td>C12</td>\n",
       "      <td>Govt</td>\n",
       "      <td>708</td>\n",
       "      <td>2005-12-03</td>\n",
       "      <td>RENTAL</td>\n",
       "      <td>11713.575521</td>\n",
       "      <td>12</td>\n",
       "      <td>2005</td>\n",
       "    </tr>\n",
       "    <tr>\n",
       "      <th>1004</th>\n",
       "      <td>44</td>\n",
       "      <td>A44</td>\n",
       "      <td>36.0</td>\n",
       "      <td>DELHI</td>\n",
       "      <td>Gold</td>\n",
       "      <td>1500000</td>\n",
       "      <td>C6</td>\n",
       "      <td>Salaried_MNC</td>\n",
       "      <td>1084</td>\n",
       "      <td>2004-01-12</td>\n",
       "      <td>FOOD</td>\n",
       "      <td>403.147195</td>\n",
       "      <td>1</td>\n",
       "      <td>2004</td>\n",
       "    </tr>\n",
       "  </tbody>\n",
       "</table>\n",
       "</div>"
      ],
      "text/plain": [
       "      No Customer   Age       City Product    Limit Company        Segment  \\\n",
       "1344  59      A59  74.0  BANGALORE  Silver   300009     C21  Normal Salary   \n",
       "22     2       A2  56.0   CALCUTTA  Silver   300000      C2   Salaried_MNC   \n",
       "127    9       A9  63.0    CHENNAI  Silver   600000      C9           Govt   \n",
       "659   30      A30  69.0  BANGALORE    Gold  1500000     C12           Govt   \n",
       "1004  44      A44  36.0      DELHI    Gold  1500000      C6   Salaried_MNC   \n",
       "\n",
       "      Sl No:  TransDate       Type         Amount  Month  Year  \n",
       "1344    1157 2004-01-12       FOOD     537.879790      1  2004  \n",
       "22       160 2005-09-03  JEWELLERY  141772.645597      9  2005  \n",
       "127      195 2006-03-27       FOOD     507.437171      3  2006  \n",
       "659      708 2005-12-03     RENTAL   11713.575521     12  2005  \n",
       "1004    1084 2004-01-12       FOOD     403.147195      1  2004  "
      ]
     },
     "execution_count": 32,
     "metadata": {},
     "output_type": "execute_result"
    }
   ],
   "source": [
    "cust_trans_df.sample(5)"
   ]
  },
  {
   "cell_type": "markdown",
   "metadata": {},
   "source": [
    "##### Which customers are reaching the monthly limit? "
   ]
  },
  {
   "cell_type": "code",
   "execution_count": 33,
   "metadata": {},
   "outputs": [],
   "source": [
    "monthly_spend_df = trans_df.groupby(['Customer','Year','Month'], as_index=False)['Amount'].sum()"
   ]
  },
  {
   "cell_type": "code",
   "execution_count": 34,
   "metadata": {},
   "outputs": [],
   "source": [
    "monthly_spend_df = pd.merge(customer_df, monthly_spend_df, on='Customer', how='left') "
   ]
  },
  {
   "cell_type": "code",
   "execution_count": 35,
   "metadata": {},
   "outputs": [
    {
     "data": {
      "text/html": [
       "<div>\n",
       "<style scoped>\n",
       "    .dataframe tbody tr th:only-of-type {\n",
       "        vertical-align: middle;\n",
       "    }\n",
       "\n",
       "    .dataframe tbody tr th {\n",
       "        vertical-align: top;\n",
       "    }\n",
       "\n",
       "    .dataframe thead th {\n",
       "        text-align: right;\n",
       "    }\n",
       "</style>\n",
       "<table border=\"1\" class=\"dataframe\">\n",
       "  <thead>\n",
       "    <tr style=\"text-align: right;\">\n",
       "      <th></th>\n",
       "      <th>No</th>\n",
       "      <th>Customer</th>\n",
       "      <th>Age</th>\n",
       "      <th>City</th>\n",
       "      <th>Product</th>\n",
       "      <th>Limit</th>\n",
       "      <th>Company</th>\n",
       "      <th>Segment</th>\n",
       "      <th>Year</th>\n",
       "      <th>Month</th>\n",
       "      <th>Amount</th>\n",
       "      <th>SpendRatio</th>\n",
       "    </tr>\n",
       "  </thead>\n",
       "  <tbody>\n",
       "    <tr>\n",
       "      <th>4</th>\n",
       "      <td>1</td>\n",
       "      <td>A1</td>\n",
       "      <td>47.0</td>\n",
       "      <td>BANGALORE</td>\n",
       "      <td>Gold</td>\n",
       "      <td>1500000</td>\n",
       "      <td>C1</td>\n",
       "      <td>Self Employed</td>\n",
       "      <td>2005</td>\n",
       "      <td>2</td>\n",
       "      <td>1.360527e+06</td>\n",
       "      <td>0.907018</td>\n",
       "    </tr>\n",
       "    <tr>\n",
       "      <th>27</th>\n",
       "      <td>4</td>\n",
       "      <td>A4</td>\n",
       "      <td>22.0</td>\n",
       "      <td>BOMBAY</td>\n",
       "      <td>Platimum</td>\n",
       "      <td>840084</td>\n",
       "      <td>C4</td>\n",
       "      <td>Govt</td>\n",
       "      <td>2004</td>\n",
       "      <td>1</td>\n",
       "      <td>8.214110e+05</td>\n",
       "      <td>0.977772</td>\n",
       "    </tr>\n",
       "    <tr>\n",
       "      <th>38</th>\n",
       "      <td>5</td>\n",
       "      <td>A5</td>\n",
       "      <td>59.0</td>\n",
       "      <td>BANGALORE</td>\n",
       "      <td>Platimum</td>\n",
       "      <td>420084</td>\n",
       "      <td>C5</td>\n",
       "      <td>Normal Salary</td>\n",
       "      <td>2006</td>\n",
       "      <td>3</td>\n",
       "      <td>3.937892e+05</td>\n",
       "      <td>0.937406</td>\n",
       "    </tr>\n",
       "    <tr>\n",
       "      <th>131</th>\n",
       "      <td>13</td>\n",
       "      <td>A13</td>\n",
       "      <td>38.0</td>\n",
       "      <td>BANGALORE</td>\n",
       "      <td>Gold</td>\n",
       "      <td>500000</td>\n",
       "      <td>C13</td>\n",
       "      <td>Salaried_MNC</td>\n",
       "      <td>2006</td>\n",
       "      <td>11</td>\n",
       "      <td>4.624256e+05</td>\n",
       "      <td>0.924851</td>\n",
       "    </tr>\n",
       "    <tr>\n",
       "      <th>155</th>\n",
       "      <td>15</td>\n",
       "      <td>A15</td>\n",
       "      <td>41.0</td>\n",
       "      <td>CALCUTTA</td>\n",
       "      <td>Gold</td>\n",
       "      <td>500000</td>\n",
       "      <td>C15</td>\n",
       "      <td>Govt</td>\n",
       "      <td>2005</td>\n",
       "      <td>9</td>\n",
       "      <td>4.937968e+05</td>\n",
       "      <td>0.987594</td>\n",
       "    </tr>\n",
       "  </tbody>\n",
       "</table>\n",
       "</div>"
      ],
      "text/plain": [
       "     No Customer   Age       City   Product    Limit Company        Segment  \\\n",
       "4     1       A1  47.0  BANGALORE      Gold  1500000      C1  Self Employed   \n",
       "27    4       A4  22.0     BOMBAY  Platimum   840084      C4           Govt   \n",
       "38    5       A5  59.0  BANGALORE  Platimum   420084      C5  Normal Salary   \n",
       "131  13      A13  38.0  BANGALORE      Gold   500000     C13   Salaried_MNC   \n",
       "155  15      A15  41.0   CALCUTTA      Gold   500000     C15           Govt   \n",
       "\n",
       "     Year  Month        Amount  SpendRatio  \n",
       "4    2005      2  1.360527e+06    0.907018  \n",
       "27   2004      1  8.214110e+05    0.977772  \n",
       "38   2006      3  3.937892e+05    0.937406  \n",
       "131  2006     11  4.624256e+05    0.924851  \n",
       "155  2005      9  4.937968e+05    0.987594  "
      ]
     },
     "execution_count": 35,
     "metadata": {},
     "output_type": "execute_result"
    }
   ],
   "source": [
    "monthly_spend_df[\"SpendRatio\"] = monthly_spend_df.Amount/monthly_spend_df.Limit\n",
    "monthly_spend_df.query(\"SpendRatio > 0.9\").head()"
   ]
  },
  {
   "cell_type": "code",
   "execution_count": 36,
   "metadata": {},
   "outputs": [
    {
     "data": {
      "text/plain": [
       "array(['A1', 'A4', 'A5', 'A13', 'A15', 'A16', 'A33', 'A48', 'A49', 'A52',\n",
       "       'A53', 'A62', 'A69', 'A96', 'A99'], dtype=object)"
      ]
     },
     "execution_count": 36,
     "metadata": {},
     "output_type": "execute_result"
    }
   ],
   "source": [
    "monthly_spend_df.query(\"SpendRatio > 0.9\")['Customer'].unique()"
   ]
  },
  {
   "cell_type": "markdown",
   "metadata": {},
   "source": [
    "##### Which city has the maximum spenders?"
   ]
  },
  {
   "cell_type": "code",
   "execution_count": 37,
   "metadata": {},
   "outputs": [],
   "source": [
    "city_spend_df=monthly_spend_df.groupby(['City', 'Month'], as_index=False)['Amount'].sum().round(2) "
   ]
  },
  {
   "cell_type": "code",
   "execution_count": 38,
   "metadata": {},
   "outputs": [
    {
     "data": {
      "text/html": [
       "<div>\n",
       "<style scoped>\n",
       "    .dataframe tbody tr th:only-of-type {\n",
       "        vertical-align: middle;\n",
       "    }\n",
       "\n",
       "    .dataframe tbody tr th {\n",
       "        vertical-align: top;\n",
       "    }\n",
       "\n",
       "    .dataframe thead th {\n",
       "        text-align: right;\n",
       "    }\n",
       "</style>\n",
       "<table border=\"1\" class=\"dataframe\">\n",
       "  <thead>\n",
       "    <tr style=\"text-align: right;\">\n",
       "      <th>City</th>\n",
       "      <th>BANGALORE</th>\n",
       "      <th>BOMBAY</th>\n",
       "      <th>CALCUTTA</th>\n",
       "      <th>CHENNAI</th>\n",
       "      <th>COCHIN</th>\n",
       "      <th>DELHI</th>\n",
       "      <th>PATNA</th>\n",
       "      <th>TRIVANDRUM</th>\n",
       "    </tr>\n",
       "    <tr>\n",
       "      <th>Month</th>\n",
       "      <th></th>\n",
       "      <th></th>\n",
       "      <th></th>\n",
       "      <th></th>\n",
       "      <th></th>\n",
       "      <th></th>\n",
       "      <th></th>\n",
       "      <th></th>\n",
       "    </tr>\n",
       "  </thead>\n",
       "  <tbody>\n",
       "    <tr>\n",
       "      <th>1</th>\n",
       "      <td>3126274.90</td>\n",
       "      <td>2328805.56</td>\n",
       "      <td>3244926.98</td>\n",
       "      <td>2597978.19</td>\n",
       "      <td>4617419.79</td>\n",
       "      <td>703130.98</td>\n",
       "      <td>1815232.34</td>\n",
       "      <td>814089.04</td>\n",
       "    </tr>\n",
       "    <tr>\n",
       "      <th>2</th>\n",
       "      <td>3971498.30</td>\n",
       "      <td>3008375.45</td>\n",
       "      <td>1658105.86</td>\n",
       "      <td>1969179.47</td>\n",
       "      <td>4149994.83</td>\n",
       "      <td>365936.54</td>\n",
       "      <td>751930.88</td>\n",
       "      <td>670849.37</td>\n",
       "    </tr>\n",
       "    <tr>\n",
       "      <th>3</th>\n",
       "      <td>2027004.09</td>\n",
       "      <td>2897458.18</td>\n",
       "      <td>2176908.20</td>\n",
       "      <td>1166274.69</td>\n",
       "      <td>2020514.68</td>\n",
       "      <td>1011287.40</td>\n",
       "      <td>1029935.01</td>\n",
       "      <td>881084.93</td>\n",
       "    </tr>\n",
       "    <tr>\n",
       "      <th>4</th>\n",
       "      <td>1337310.21</td>\n",
       "      <td>850195.62</td>\n",
       "      <td>1551686.80</td>\n",
       "      <td>1080791.32</td>\n",
       "      <td>2347582.32</td>\n",
       "      <td>1161682.99</td>\n",
       "      <td>148841.06</td>\n",
       "      <td>97370.19</td>\n",
       "    </tr>\n",
       "    <tr>\n",
       "      <th>5</th>\n",
       "      <td>3130804.91</td>\n",
       "      <td>778840.57</td>\n",
       "      <td>1967827.09</td>\n",
       "      <td>1924341.32</td>\n",
       "      <td>2844139.80</td>\n",
       "      <td>1072653.18</td>\n",
       "      <td>895786.43</td>\n",
       "      <td>1438594.96</td>\n",
       "    </tr>\n",
       "  </tbody>\n",
       "</table>\n",
       "</div>"
      ],
      "text/plain": [
       "City    BANGALORE      BOMBAY    CALCUTTA     CHENNAI      COCHIN       DELHI  \\\n",
       "Month                                                                           \n",
       "1      3126274.90  2328805.56  3244926.98  2597978.19  4617419.79   703130.98   \n",
       "2      3971498.30  3008375.45  1658105.86  1969179.47  4149994.83   365936.54   \n",
       "3      2027004.09  2897458.18  2176908.20  1166274.69  2020514.68  1011287.40   \n",
       "4      1337310.21   850195.62  1551686.80  1080791.32  2347582.32  1161682.99   \n",
       "5      3130804.91   778840.57  1967827.09  1924341.32  2844139.80  1072653.18   \n",
       "\n",
       "City        PATNA  TRIVANDRUM  \n",
       "Month                          \n",
       "1      1815232.34   814089.04  \n",
       "2       751930.88   670849.37  \n",
       "3      1029935.01   881084.93  \n",
       "4       148841.06    97370.19  \n",
       "5       895786.43  1438594.96  "
      ]
     },
     "execution_count": 38,
     "metadata": {},
     "output_type": "execute_result"
    }
   ],
   "source": [
    "# reshape the data for plotting\n",
    "df = city_spend_df.pivot(index='Month', columns='City', values='Amount')\n",
    "df.head()"
   ]
  },
  {
   "cell_type": "code",
   "execution_count": 40,
   "metadata": {},
   "outputs": [
    {
     "data": {
      "text/plain": [
       "<AxesSubplot:xlabel='Month'>"
      ]
     },
     "execution_count": 40,
     "metadata": {},
     "output_type": "execute_result"
    },
    {
     "data": {
      "image/png": "[encoded data removed]",
      "text/plain": [
       "<Figure size 432x288 with 1 Axes>"
      ]
     },
     "metadata": {},
     "output_type": "display_data"
    }
   ],
   "source": [
    "df.plot(kind='bar')"
   ]
  },
  {
   "cell_type": "markdown",
   "metadata": {},
   "source": [
    "##### Which age group spends the most amount of money?"
   ]
  },
  {
   "cell_type": "code",
   "execution_count": 41,
   "metadata": {},
   "outputs": [],
   "source": [
    "cust_trans_df[\"Age_group\"] = pd.cut(x=cust_trans_df['Age'], bins=[18,30,60,100], labels=[\"GenX\",\"Middle\",\"Senior\"])"
   ]
  },
  {
   "cell_type": "code",
   "execution_count": 42,
   "metadata": {},
   "outputs": [
    {
     "data": {
      "text/html": [
       "<div>\n",
       "<style scoped>\n",
       "    .dataframe tbody tr th:only-of-type {\n",
       "        vertical-align: middle;\n",
       "    }\n",
       "\n",
       "    .dataframe tbody tr th {\n",
       "        vertical-align: top;\n",
       "    }\n",
       "\n",
       "    .dataframe thead th {\n",
       "        text-align: right;\n",
       "    }\n",
       "</style>\n",
       "<table border=\"1\" class=\"dataframe\">\n",
       "  <thead>\n",
       "    <tr style=\"text-align: right;\">\n",
       "      <th></th>\n",
       "      <th>No</th>\n",
       "      <th>Customer</th>\n",
       "      <th>Age</th>\n",
       "      <th>City</th>\n",
       "      <th>Product</th>\n",
       "      <th>Limit</th>\n",
       "      <th>Company</th>\n",
       "      <th>Segment</th>\n",
       "      <th>Sl No:</th>\n",
       "      <th>TransDate</th>\n",
       "      <th>Type</th>\n",
       "      <th>Amount</th>\n",
       "      <th>Month</th>\n",
       "      <th>Year</th>\n",
       "      <th>Age_group</th>\n",
       "    </tr>\n",
       "  </thead>\n",
       "  <tbody>\n",
       "    <tr>\n",
       "      <th>797</th>\n",
       "      <td>37</td>\n",
       "      <td>A37</td>\n",
       "      <td>74.0</td>\n",
       "      <td>BANGALORE</td>\n",
       "      <td>Platimum</td>\n",
       "      <td>600018</td>\n",
       "      <td>C19</td>\n",
       "      <td>Normal Salary</td>\n",
       "      <td>1367</td>\n",
       "      <td>2006-05-03</td>\n",
       "      <td>AUTO</td>\n",
       "      <td>43770.897417</td>\n",
       "      <td>5</td>\n",
       "      <td>2006</td>\n",
       "      <td>Senior</td>\n",
       "    </tr>\n",
       "    <tr>\n",
       "      <th>1324</th>\n",
       "      <td>58</td>\n",
       "      <td>A58</td>\n",
       "      <td>68.0</td>\n",
       "      <td>CALCUTTA</td>\n",
       "      <td>Silver</td>\n",
       "      <td>3000000</td>\n",
       "      <td>C20</td>\n",
       "      <td>Normal Salary</td>\n",
       "      <td>1127</td>\n",
       "      <td>2004-11-23</td>\n",
       "      <td>PETRO</td>\n",
       "      <td>187.522013</td>\n",
       "      <td>11</td>\n",
       "      <td>2004</td>\n",
       "      <td>Senior</td>\n",
       "    </tr>\n",
       "    <tr>\n",
       "      <th>869</th>\n",
       "      <td>40</td>\n",
       "      <td>A40</td>\n",
       "      <td>64.0</td>\n",
       "      <td>CALCUTTA</td>\n",
       "      <td>Platimum</td>\n",
       "      <td>1500000</td>\n",
       "      <td>C22</td>\n",
       "      <td>Salaried_Pvt</td>\n",
       "      <td>776</td>\n",
       "      <td>2006-02-04</td>\n",
       "      <td>SHOPPING</td>\n",
       "      <td>5428.395579</td>\n",
       "      <td>2</td>\n",
       "      <td>2006</td>\n",
       "      <td>Senior</td>\n",
       "    </tr>\n",
       "    <tr>\n",
       "      <th>109</th>\n",
       "      <td>8</td>\n",
       "      <td>A8</td>\n",
       "      <td>50.0</td>\n",
       "      <td>PATNA</td>\n",
       "      <td>Silver</td>\n",
       "      <td>600000</td>\n",
       "      <td>C8</td>\n",
       "      <td>Salaried_Pvt</td>\n",
       "      <td>194</td>\n",
       "      <td>2006-03-26</td>\n",
       "      <td>FOOD</td>\n",
       "      <td>77.321412</td>\n",
       "      <td>3</td>\n",
       "      <td>2006</td>\n",
       "      <td>Middle</td>\n",
       "    </tr>\n",
       "    <tr>\n",
       "      <th>629</th>\n",
       "      <td>29</td>\n",
       "      <td>A29</td>\n",
       "      <td>72.0</td>\n",
       "      <td>CALCUTTA</td>\n",
       "      <td>Gold</td>\n",
       "      <td>1500000</td>\n",
       "      <td>C11</td>\n",
       "      <td>Salaried_Pvt</td>\n",
       "      <td>620</td>\n",
       "      <td>2005-02-28</td>\n",
       "      <td>TRAIN TICKET</td>\n",
       "      <td>2694.899420</td>\n",
       "      <td>2</td>\n",
       "      <td>2005</td>\n",
       "      <td>Senior</td>\n",
       "    </tr>\n",
       "    <tr>\n",
       "      <th>502</th>\n",
       "      <td>24</td>\n",
       "      <td>A24</td>\n",
       "      <td>39.0</td>\n",
       "      <td>DELHI</td>\n",
       "      <td>Silver</td>\n",
       "      <td>1200000</td>\n",
       "      <td>C6</td>\n",
       "      <td>Salaried_Pvt</td>\n",
       "      <td>847</td>\n",
       "      <td>2006-03-25</td>\n",
       "      <td>PETRO</td>\n",
       "      <td>678.443848</td>\n",
       "      <td>3</td>\n",
       "      <td>2006</td>\n",
       "      <td>Middle</td>\n",
       "    </tr>\n",
       "    <tr>\n",
       "      <th>957</th>\n",
       "      <td>43</td>\n",
       "      <td>A43</td>\n",
       "      <td>50.0</td>\n",
       "      <td>BANGALORE</td>\n",
       "      <td>Gold</td>\n",
       "      <td>1500000</td>\n",
       "      <td>C25</td>\n",
       "      <td>Self Employed</td>\n",
       "      <td>634</td>\n",
       "      <td>2006-03-30</td>\n",
       "      <td>AIR TICKET</td>\n",
       "      <td>215181.378326</td>\n",
       "      <td>3</td>\n",
       "      <td>2006</td>\n",
       "      <td>Middle</td>\n",
       "    </tr>\n",
       "    <tr>\n",
       "      <th>1310</th>\n",
       "      <td>57</td>\n",
       "      <td>A57</td>\n",
       "      <td>40.0</td>\n",
       "      <td>TRIVANDRUM</td>\n",
       "      <td>Silver</td>\n",
       "      <td>300003</td>\n",
       "      <td>C19</td>\n",
       "      <td>Normal Salary</td>\n",
       "      <td>1271</td>\n",
       "      <td>2005-02-23</td>\n",
       "      <td>SHOPPING</td>\n",
       "      <td>10205.759339</td>\n",
       "      <td>2</td>\n",
       "      <td>2005</td>\n",
       "      <td>Middle</td>\n",
       "    </tr>\n",
       "    <tr>\n",
       "      <th>773</th>\n",
       "      <td>37</td>\n",
       "      <td>A37</td>\n",
       "      <td>74.0</td>\n",
       "      <td>BANGALORE</td>\n",
       "      <td>Platimum</td>\n",
       "      <td>600018</td>\n",
       "      <td>C19</td>\n",
       "      <td>Normal Salary</td>\n",
       "      <td>686</td>\n",
       "      <td>2005-08-12</td>\n",
       "      <td>FOOD</td>\n",
       "      <td>598.177630</td>\n",
       "      <td>8</td>\n",
       "      <td>2005</td>\n",
       "      <td>Senior</td>\n",
       "    </tr>\n",
       "    <tr>\n",
       "      <th>626</th>\n",
       "      <td>29</td>\n",
       "      <td>A29</td>\n",
       "      <td>72.0</td>\n",
       "      <td>CALCUTTA</td>\n",
       "      <td>Gold</td>\n",
       "      <td>1500000</td>\n",
       "      <td>C11</td>\n",
       "      <td>Salaried_Pvt</td>\n",
       "      <td>572</td>\n",
       "      <td>2005-05-07</td>\n",
       "      <td>JEWELLERY</td>\n",
       "      <td>272882.733973</td>\n",
       "      <td>5</td>\n",
       "      <td>2005</td>\n",
       "      <td>Senior</td>\n",
       "    </tr>\n",
       "  </tbody>\n",
       "</table>\n",
       "</div>"
      ],
      "text/plain": [
       "      No Customer   Age        City   Product    Limit Company        Segment  \\\n",
       "797   37      A37  74.0   BANGALORE  Platimum   600018     C19  Normal Salary   \n",
       "1324  58      A58  68.0    CALCUTTA    Silver  3000000     C20  Normal Salary   \n",
       "869   40      A40  64.0    CALCUTTA  Platimum  1500000     C22   Salaried_Pvt   \n",
       "109    8       A8  50.0       PATNA    Silver   600000      C8   Salaried_Pvt   \n",
       "629   29      A29  72.0    CALCUTTA      Gold  1500000     C11   Salaried_Pvt   \n",
       "502   24      A24  39.0       DELHI    Silver  1200000      C6   Salaried_Pvt   \n",
       "957   43      A43  50.0   BANGALORE      Gold  1500000     C25  Self Employed   \n",
       "1310  57      A57  40.0  TRIVANDRUM    Silver   300003     C19  Normal Salary   \n",
       "773   37      A37  74.0   BANGALORE  Platimum   600018     C19  Normal Salary   \n",
       "626   29      A29  72.0    CALCUTTA      Gold  1500000     C11   Salaried_Pvt   \n",
       "\n",
       "      Sl No:  TransDate          Type         Amount  Month  Year Age_group  \n",
       "797     1367 2006-05-03          AUTO   43770.897417      5  2006    Senior  \n",
       "1324    1127 2004-11-23         PETRO     187.522013     11  2004    Senior  \n",
       "869      776 2006-02-04      SHOPPING    5428.395579      2  2006    Senior  \n",
       "109      194 2006-03-26          FOOD      77.321412      3  2006    Middle  \n",
       "629      620 2005-02-28  TRAIN TICKET    2694.899420      2  2005    Senior  \n",
       "502      847 2006-03-25         PETRO     678.443848      3  2006    Middle  \n",
       "957      634 2006-03-30    AIR TICKET  215181.378326      3  2006    Middle  \n",
       "1310    1271 2005-02-23      SHOPPING   10205.759339      2  2005    Middle  \n",
       "773      686 2005-08-12          FOOD     598.177630      8  2005    Senior  \n",
       "626      572 2005-05-07     JEWELLERY  272882.733973      5  2005    Senior  "
      ]
     },
     "execution_count": 42,
     "metadata": {},
     "output_type": "execute_result"
    }
   ],
   "source": [
    "cust_trans_df.sample(10)"
   ]
  },
  {
   "cell_type": "code",
   "execution_count": 43,
   "metadata": {},
   "outputs": [
    {
     "data": {
      "text/plain": [
       "Age_group\n",
       "GenX      1.807039e+07\n",
       "Middle    4.398701e+07\n",
       "Senior    3.020665e+07\n",
       "Name: Amount, dtype: float64"
      ]
     },
     "execution_count": 43,
     "metadata": {},
     "output_type": "execute_result"
    }
   ],
   "source": [
    "spend_age_df = cust_trans_df.groupby('Age_group')['Amount'].sum()\n",
    "spend_age_df"
   ]
  },
  {
   "cell_type": "markdown",
   "metadata": {},
   "source": [
    "##### Calculate the city wise spend on each product on yearly basis. Also include a graphical representation for the same."
   ]
  },
  {
   "cell_type": "code",
   "execution_count": null,
   "metadata": {},
   "outputs": [],
   "source": []
  },
  {
   "cell_type": "markdown",
   "metadata": {},
   "source": [
    "##### If the monthly rate of interest is 3.2%, what is the profit for the bank for each month? \n",
    "- Profit is defined as interest earned on Monthly Profit\n",
    "    - Monthly Profit = Monthly spend – Monthly repayment. \n",
    "- Interest is earned only on positive profits and not on negative amounts"
   ]
  },
  {
   "cell_type": "markdown",
   "metadata": {},
   "source": [
    "#### 2. Advanced Numpy \n",
    "- The ndarray internally consists of the following:\n",
    "    - A pointer to data, that is a block of system memory\n",
    "    - The data type or dtype\n",
    "    - A tuple indicating the array’s shape; For example, a 10 by 5 array would have shape(10, 5)\n",
    "    - A tuple of strides, integers indicating the number of bytes to “step” in order to advance one element along a dimension"
   ]
  },
  {
   "cell_type": "code",
   "execution_count": null,
   "metadata": {},
   "outputs": [],
   "source": [
    "# numpy.concatenate takes a sequence (tuple, list, etc.) of arrays and joins them together in order along the input axis.\n",
    "arr1 = np.array([[1, 2, 3], \n",
    "                 [4, 5, 6]])\n",
    "arr2 = np.array([[7, 8, 9], \n",
    "                 [10, 11, 12]])"
   ]
  },
  {
   "cell_type": "code",
   "execution_count": null,
   "metadata": {},
   "outputs": [],
   "source": [
    "np.concatenate([arr1, arr2], axis=0)                    #same as np.vstack()             "
   ]
  },
  {
   "cell_type": "code",
   "execution_count": null,
   "metadata": {},
   "outputs": [],
   "source": [
    "np.concatenate([arr1, arr2], axis=1)                    #same as np.hstack()"
   ]
  },
  {
   "cell_type": "code",
   "execution_count": null,
   "metadata": {},
   "outputs": [],
   "source": [
    "#split() splits an array \n",
    "from numpy.random import randn\n",
    "bigarr = randn(10, 2)\n",
    "bigarr"
   ]
  },
  {
   "cell_type": "code",
   "execution_count": null,
   "metadata": {},
   "outputs": [],
   "source": [
    "one, two, three= np.split(bigarr, [3,6])               # axis = 0 , Split is [:3] , [3:6], [6:]"
   ]
  },
  {
   "cell_type": "code",
   "execution_count": null,
   "metadata": {},
   "outputs": [],
   "source": [
    "one"
   ]
  },
  {
   "cell_type": "code",
   "execution_count": null,
   "metadata": {},
   "outputs": [],
   "source": [
    "two"
   ]
  },
  {
   "cell_type": "code",
   "execution_count": null,
   "metadata": {},
   "outputs": [],
   "source": [
    "three"
   ]
  },
  {
   "cell_type": "code",
   "execution_count": null,
   "metadata": {},
   "outputs": [],
   "source": [
    "#reshape an array\n",
    "arr = np.arange(15)\n",
    "arr"
   ]
  },
  {
   "cell_type": "code",
   "execution_count": null,
   "metadata": {},
   "outputs": [],
   "source": [
    "new_array = arr.reshape((5,-1))                                # -1 => infer the second dimension\n",
    "new_array"
   ]
  },
  {
   "cell_type": "code",
   "execution_count": null,
   "metadata": {},
   "outputs": [],
   "source": [
    "#flatten will flatten the array\n",
    "new_array.flatten()"
   ]
  },
  {
   "cell_type": "code",
   "execution_count": null,
   "metadata": {},
   "outputs": [],
   "source": [
    "arr"
   ]
  },
  {
   "cell_type": "markdown",
   "metadata": {
    "heading_collapsed": true
   },
   "source": [
    "##### Broadcasting\n",
    "- Broadcasting describes how arithmetic works between arrays of different shapes"
   ]
  },
  {
   "cell_type": "code",
   "execution_count": null,
   "metadata": {
    "hidden": true
   },
   "outputs": [],
   "source": [
    "arr = np.arange(5)\n",
    "arr"
   ]
  },
  {
   "cell_type": "code",
   "execution_count": null,
   "metadata": {
    "hidden": true
   },
   "outputs": [],
   "source": [
    "arr * 4                                              # scalar value 4 has been broadcast to all the elements"
   ]
  },
  {
   "cell_type": "code",
   "execution_count": null,
   "metadata": {
    "hidden": true
   },
   "outputs": [],
   "source": [
    "centered = arr - arr.mean(0)\n",
    "centered"
   ]
  },
  {
   "cell_type": "code",
   "execution_count": null,
   "metadata": {
    "hidden": true
   },
   "outputs": [],
   "source": [
    "#sorting\n",
    "arr = randn(6)\n",
    "arr"
   ]
  },
  {
   "cell_type": "code",
   "execution_count": null,
   "metadata": {
    "hidden": true
   },
   "outputs": [],
   "source": [
    "arr.sort()                                           #no need on inplace      \n",
    "arr"
   ]
  },
  {
   "cell_type": "code",
   "execution_count": null,
   "metadata": {
    "hidden": true
   },
   "outputs": [],
   "source": [
    "arr2 = randn(3, 5)\n",
    "arr2"
   ]
  },
  {
   "cell_type": "code",
   "execution_count": null,
   "metadata": {
    "hidden": true
   },
   "outputs": [],
   "source": [
    "arr2[0,:].sort()                 # sort first row values in-place\n",
    "arr2"
   ]
  },
  {
   "cell_type": "markdown",
   "metadata": {},
   "source": [
    "##### Numpy Matrix \n",
    "- NumPy has a matrix class which behaves like a 2D array and retains this structure through operations\n",
    "- multiplication with * is matrix multiplication, and ** is power"
   ]
  },
  {
   "cell_type": "code",
   "execution_count": null,
   "metadata": {},
   "outputs": [],
   "source": [
    "X = np.matrix([[1, 2], [3, 4]])\n",
    "X"
   ]
  },
  {
   "cell_type": "code",
   "execution_count": null,
   "metadata": {},
   "outputs": [],
   "source": [
    "#Transpose\n",
    "X.T"
   ]
  },
  {
   "cell_type": "code",
   "execution_count": null,
   "metadata": {},
   "outputs": [],
   "source": [
    "#Inverse\n",
    "X.I"
   ]
  },
  {
   "cell_type": "code",
   "execution_count": null,
   "metadata": {},
   "outputs": [],
   "source": [
    "#Dot product \n",
    "X.I.dot(X).round(2)"
   ]
  },
  {
   "cell_type": "code",
   "execution_count": null,
   "metadata": {},
   "outputs": [],
   "source": [
    "#trace of matrix\n",
    "X.trace()"
   ]
  },
  {
   "cell_type": "code",
   "execution_count": null,
   "metadata": {},
   "outputs": [],
   "source": [
    "Y = np.matrix([[1, 1], [2, 0]])\n",
    "X*Y                                         #Matrix multiplication"
   ]
  },
  {
   "cell_type": "code",
   "execution_count": null,
   "metadata": {},
   "outputs": [],
   "source": [
    "Y**3                                        #Matrix raised to 3 - remember Markov chain? "
   ]
  },
  {
   "cell_type": "markdown",
   "metadata": {},
   "source": [
    "#### String & Text - revisited\n",
    "- There are two ways to store text data in pandas:\n",
    "    - object -dtype NumPy array.\n",
    "    - StringDtype extension type.\n",
    "- Pandas provides a set of string functions which make it easy to operate on string data. \n",
    "- Most importantly, these functions ignore (or exclude) missing/NaN values."
   ]
  },
  {
   "cell_type": "code",
   "execution_count": null,
   "metadata": {},
   "outputs": [],
   "source": [
    "pd.Series([\"a\", \"b\", \"c\"])"
   ]
  },
  {
   "cell_type": "code",
   "execution_count": null,
   "metadata": {},
   "outputs": [],
   "source": [
    "pd.Series([\"a\", \"b\", \"c\"], dtype=pd.StringDtype())"
   ]
  },
  {
   "cell_type": "code",
   "execution_count": null,
   "metadata": {},
   "outputs": [],
   "source": [
    "s = pd.Series(['Tom', 'William Rick', 'John', 'Alber@t', np.nan, '1234','SteveSmith'])\n",
    "print(s)"
   ]
  },
  {
   "cell_type": "code",
   "execution_count": null,
   "metadata": {},
   "outputs": [],
   "source": [
    "print(s.str.upper())"
   ]
  },
  {
   "cell_type": "code",
   "execution_count": null,
   "metadata": {},
   "outputs": [],
   "source": [
    "print(s.str.len())"
   ]
  },
  {
   "cell_type": "code",
   "execution_count": null,
   "metadata": {},
   "outputs": [],
   "source": [
    "# Dummy variables \n",
    "basket = pd.Series(['Milk ','Bread','Eggs','Beer','Diaper'])\n",
    "basket.str.get_dummies()"
   ]
  },
  {
   "cell_type": "code",
   "execution_count": null,
   "metadata": {},
   "outputs": [],
   "source": [
    "#Replacing a substring with another \n",
    "kwrds = pd.Series(['#Data', '#Python', '#AI'])\n",
    "kwrds"
   ]
  },
  {
   "cell_type": "code",
   "execution_count": null,
   "metadata": {},
   "outputs": [],
   "source": [
    "kwrds.str.replace('#','@')"
   ]
  },
  {
   "cell_type": "code",
   "execution_count": null,
   "metadata": {},
   "outputs": [],
   "source": [
    "#splitting strings based on a character\n",
    "emails = pd.Series(['sachin@gmail.com ','kamal@outlook.com'])\n",
    "emails.str.split('@', expand=True)"
   ]
  },
  {
   "cell_type": "code",
   "execution_count": 44,
   "metadata": {},
   "outputs": [
    {
     "data": {
      "text/html": [
       "<div>\n",
       "<style scoped>\n",
       "    .dataframe tbody tr th:only-of-type {\n",
       "        vertical-align: middle;\n",
       "    }\n",
       "\n",
       "    .dataframe tbody tr th {\n",
       "        vertical-align: top;\n",
       "    }\n",
       "\n",
       "    .dataframe thead th {\n",
       "        text-align: right;\n",
       "    }\n",
       "</style>\n",
       "<table border=\"1\" class=\"dataframe\">\n",
       "  <thead>\n",
       "    <tr style=\"text-align: right;\">\n",
       "      <th></th>\n",
       "      <th>Column A</th>\n",
       "      <th>Column B</th>\n",
       "    </tr>\n",
       "  </thead>\n",
       "  <tbody>\n",
       "    <tr>\n",
       "      <th>0</th>\n",
       "      <td>1.334382</td>\n",
       "      <td>0.993231</td>\n",
       "    </tr>\n",
       "    <tr>\n",
       "      <th>1</th>\n",
       "      <td>-1.456032</td>\n",
       "      <td>0.534955</td>\n",
       "    </tr>\n",
       "    <tr>\n",
       "      <th>2</th>\n",
       "      <td>0.017939</td>\n",
       "      <td>-0.354274</td>\n",
       "    </tr>\n",
       "  </tbody>\n",
       "</table>\n",
       "</div>"
      ],
      "text/plain": [
       "    Column A    Column B \n",
       "0    1.334382    0.993231\n",
       "1   -1.456032    0.534955\n",
       "2    0.017939   -0.354274"
      ]
     },
     "execution_count": 44,
     "metadata": {},
     "output_type": "execute_result"
    }
   ],
   "source": [
    "df = pd.DataFrame(np.random.randn(3, 2), \n",
    "                  columns=[\" Column A \", \" Column B \"], \n",
    "                  index=range(3))\n",
    "df"
   ]
  },
  {
   "cell_type": "code",
   "execution_count": 45,
   "metadata": {},
   "outputs": [
    {
     "data": {
      "text/html": [
       "<div>\n",
       "<style scoped>\n",
       "    .dataframe tbody tr th:only-of-type {\n",
       "        vertical-align: middle;\n",
       "    }\n",
       "\n",
       "    .dataframe tbody tr th {\n",
       "        vertical-align: top;\n",
       "    }\n",
       "\n",
       "    .dataframe thead th {\n",
       "        text-align: right;\n",
       "    }\n",
       "</style>\n",
       "<table border=\"1\" class=\"dataframe\">\n",
       "  <thead>\n",
       "    <tr style=\"text-align: right;\">\n",
       "      <th></th>\n",
       "      <th>column_a</th>\n",
       "      <th>column_b</th>\n",
       "    </tr>\n",
       "  </thead>\n",
       "  <tbody>\n",
       "    <tr>\n",
       "      <th>0</th>\n",
       "      <td>1.334382</td>\n",
       "      <td>0.993231</td>\n",
       "    </tr>\n",
       "    <tr>\n",
       "      <th>1</th>\n",
       "      <td>-1.456032</td>\n",
       "      <td>0.534955</td>\n",
       "    </tr>\n",
       "    <tr>\n",
       "      <th>2</th>\n",
       "      <td>0.017939</td>\n",
       "      <td>-0.354274</td>\n",
       "    </tr>\n",
       "  </tbody>\n",
       "</table>\n",
       "</div>"
      ],
      "text/plain": [
       "   column_a  column_b\n",
       "0  1.334382  0.993231\n",
       "1 -1.456032  0.534955\n",
       "2  0.017939 -0.354274"
      ]
     },
     "execution_count": 45,
     "metadata": {},
     "output_type": "execute_result"
    }
   ],
   "source": [
    "df.columns = df.columns.str.strip().str.lower().str.replace(\" \", \"_\")\n",
    "df"
   ]
  },
  {
   "cell_type": "code",
   "execution_count": null,
   "metadata": {},
   "outputs": [],
   "source": [
    "#Concatenation\n",
    "slower = pd.Series([\"a\", \"b\", \"c\", \"d\"], dtype=\"string\")\n",
    "slower.str.cat(sep=\"_\")"
   ]
  },
  {
   "cell_type": "code",
   "execution_count": null,
   "metadata": {},
   "outputs": [],
   "source": [
    "supper = pd.Series([\"A\", \"B\", np.nan, \"D\"], dtype=\"string\") \n",
    "supper.str.cat(slower)"
   ]
  },
  {
   "cell_type": "code",
   "execution_count": null,
   "metadata": {},
   "outputs": [],
   "source": [
    "#Checking for a pattern match\n",
    "\n",
    "pattern = r\"[0-9][a-z]\"        # a number followed by small letter\n",
    "\n",
    "library = pd.Series([\"1\", \"A2\", \"3a\", \"3b\", \"03cd\", \"4-d\"], dtype=\"string\")\n",
    "\n",
    "library.str.contains(pattern)"
   ]
  },
  {
   "cell_type": "code",
   "execution_count": null,
   "metadata": {},
   "outputs": [],
   "source": []
  }
 ],
 "metadata": {
  "kernelspec": {
   "display_name": "Python 3 (ipykernel)",
   "language": "python",
   "name": "python3"
  },
  "language_info": {
   "codemirror_mode": {
    "name": "ipython",
    "version": 3
   },
   "file_extension": ".py",
   "mimetype": "text/x-python",
   "name": "python",
   "nbconvert_exporter": "python",
   "pygments_lexer": "ipython3",
   "version": "3.9.7"
  }
 },
 "nbformat": 4,
 "nbformat_minor": 2
}
