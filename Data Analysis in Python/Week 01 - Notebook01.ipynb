{
 "cells": [
  {
   "cell_type": "markdown",
   "metadata": {
    "heading_collapsed": true
   },
   "source": [
    "### NeoStats - Python for Data Science\n",
    "##### Introduction to Python Language  (Python 3) \n",
    "In this notebook we will cover the following: \n",
    "* 1. Data Types        <br> \n",
    "* 2. Variables & Expressions<br>\n",
    "* 3. Language  Basics  <br>\n",
    "* 4. Function & Modules<br>\n",
    "\n",
    "We will cover the following in Notebook 2:\n",
    "* 5. Classes  & Objects<br>\n",
    "* 6. File I/O          <br>\n",
    "* 7. Exception Handling<br>\n",
    "***"
   ]
  },
  {
   "cell_type": "markdown",
   "metadata": {
    "heading_collapsed": true,
    "hidden": true
   },
   "source": [
    "#### A note on Python 2 vs. Python 3\n",
    "* There are 2 major versions of Python in widespread use: Python 2 and Python 3. <br>\n",
    "Below is a timeline of the release of the various versions of the Python.\n",
    "\n",
    "|S.No|Python 2.0 – Release| Python 3.0 – Release |\n",
    "| :-| --- | :- | \n",
    "|First Release  |Python 2.0 – Oct 16, 2000    | Python 3.0 – Dec 3, 2008 |\n",
    "|Latest Release | Python 2.7-July 3, 2010     | Python 3.10- Oct 4, 2021 |\n",
    "\n",
    "Comparison of Python 2 & Python 3:\n",
    "* Ease of Syntax: Python 2 has more complicated syntax than Python 3.\n",
    "* “Print” Keyword:\tIn Python 2, print is considered to be a statement.In Python 3, print is a function.\n",
    "* String Storage :  In Python 2, strings are stored as ASCII by default. In Python 3, strings are stored as UNICODE by default.\n",
    "* Integer Division: Division of two integers yields an integer value in Python 2. For instance, 7/2 yields 3 in Python 2. On the division of two integers, we get a floating-point value in Python 3.\n",
    "* Exceptions\t: In Python 2, exceptions are enclosed in notations. In Python 3, exceptions are enclosed in parentheses.\n",
    "* Iteration\t: In Python 2, the xrange() function has been defined for iterations. In Python 3, the new Range() function was introduced to perform iterations.\n",
    "* Libraries: A lot of libraries of Python 2 are not forward compatible.\tMany libraries created in Python 3 can only work with Python 3.\n",
    "* Application: Python 2 was mostly used for application development.Python 3 is used in a lot of fields like Software Engineering, Data Science, web development etc.\n",
    "\n",
    "Python 2 is no longer updated since 2020. Python 3 is more popular than Python 2 and is still in active development. Hence we will use Python 3.6 or later for all our work."
   ]
  },
  {
   "cell_type": "markdown",
   "metadata": {},
   "source": [
    "### 1. Data Types in Python\n",
    "- Numeric Types:\tint, float, complex\n",
    "- Text Type:\tstr\n",
    "- Sequence Types:\tlist, tuple, range\n",
    "- Mapping Type:\tdict\n",
    "- Set Types:\tset, frozenset\n",
    "- Boolean Type:\tbool\n",
    "- Binary Types:\tbytes, bytearray, memoryview"
   ]
  },
  {
   "cell_type": "code",
   "execution_count": null,
   "metadata": {},
   "outputs": [],
   "source": [
    "1                        # python understands this is a number"
   ]
  },
  {
   "cell_type": "code",
   "execution_count": 1,
   "metadata": {},
   "outputs": [
    {
     "data": {
      "text/plain": [
       "13"
      ]
     },
     "execution_count": 1,
     "metadata": {},
     "output_type": "execute_result"
    }
   ],
   "source": [
    "1 + 5 + 7                # additions of numbers"
   ]
  },
  {
   "cell_type": "code",
   "execution_count": 2,
   "metadata": {},
   "outputs": [
    {
     "data": {
      "text/plain": [
       "19"
      ]
     },
     "execution_count": 2,
     "metadata": {},
     "output_type": "execute_result"
    }
   ],
   "source": [
    "2 + 3 * 5 + 5 -3          # BODMAS"
   ]
  },
  {
   "cell_type": "code",
   "execution_count": null,
   "metadata": {},
   "outputs": [],
   "source": [
    "1/3                        # division yields a floating point number"
   ]
  },
  {
   "cell_type": "code",
   "execution_count": null,
   "metadata": {},
   "outputs": [],
   "source": [
    "5*3.5                     # multiplication "
   ]
  },
  {
   "cell_type": "code",
   "execution_count": null,
   "metadata": {},
   "outputs": [],
   "source": [
    "2**4                       # exponentiating"
   ]
  },
  {
   "cell_type": "code",
   "execution_count": null,
   "metadata": {},
   "outputs": [],
   "source": [
    "4%2                        # modulus - good way to check an even number"
   ]
  },
  {
   "cell_type": "code",
   "execution_count": 3,
   "metadata": {},
   "outputs": [
    {
     "data": {
      "text/plain": [
       "float"
      ]
     },
     "execution_count": 3,
     "metadata": {},
     "output_type": "execute_result"
    }
   ],
   "source": [
    "x = 1                      # int\n",
    "y = 2.8                    # float\n",
    "z = x+y                    # automatic type conversion\n",
    "type(z)"
   ]
  },
  {
   "cell_type": "code",
   "execution_count": 4,
   "metadata": {},
   "outputs": [
    {
     "name": "stdout",
     "output_type": "stream",
     "text": [
      "(2+3j)\n"
     ]
    }
   ],
   "source": [
    "#Complex numbers\n",
    "z = complex (2 , 3)\n",
    "print (z)"
   ]
  },
  {
   "cell_type": "code",
   "execution_count": 5,
   "metadata": {},
   "outputs": [
    {
     "data": {
      "text/plain": [
       "(2.0, 3.0)"
      ]
     },
     "execution_count": 5,
     "metadata": {},
     "output_type": "execute_result"
    }
   ],
   "source": [
    "z.real , z.imag"
   ]
  },
  {
   "cell_type": "code",
   "execution_count": null,
   "metadata": {},
   "outputs": [],
   "source": [
    "type(z)"
   ]
  },
  {
   "cell_type": "code",
   "execution_count": 6,
   "metadata": {},
   "outputs": [
    {
     "name": "stdout",
     "output_type": "stream",
     "text": [
      "single quotes double quotes wrap 'single quotes' with double quote\n"
     ]
    }
   ],
   "source": [
    "#Strings \n",
    "a = 'single quotes'\n",
    "b = \"double quotes\"\n",
    "n = \"wrap 'single quotes' with double quote\"\n",
    "print ( a, b, n)"
   ]
  },
  {
   "cell_type": "code",
   "execution_count": 7,
   "metadata": {},
   "outputs": [
    {
     "data": {
      "text/plain": [
       "'e'"
      ]
     },
     "execution_count": 7,
     "metadata": {},
     "output_type": "execute_result"
    }
   ],
   "source": [
    "s = 'hello'                 # indexing strings \n",
    "s[1]                        # counting starts at 0"
   ]
  },
  {
   "cell_type": "code",
   "execution_count": 8,
   "metadata": {},
   "outputs": [
    {
     "data": {
      "text/plain": [
       "'he'"
      ]
     },
     "execution_count": 8,
     "metadata": {},
     "output_type": "execute_result"
    }
   ],
   "source": [
    "s[0:2]                      #slicing - from 0 upto but not including 2"
   ]
  },
  {
   "cell_type": "code",
   "execution_count": 9,
   "metadata": {},
   "outputs": [
    {
     "data": {
      "text/plain": [
       "'hel'"
      ]
     },
     "execution_count": 9,
     "metadata": {},
     "output_type": "execute_result"
    }
   ],
   "source": [
    "s[:3]                       #slicing - from beginign upto but not including 3 "
   ]
  },
  {
   "cell_type": "code",
   "execution_count": 10,
   "metadata": {},
   "outputs": [
    {
     "data": {
      "text/plain": [
       "'o'"
      ]
     },
     "execution_count": 10,
     "metadata": {},
     "output_type": "execute_result"
    }
   ],
   "source": [
    "s[-1]                       # -1 {its not -0} starts from end and goes reverse "
   ]
  },
  {
   "cell_type": "code",
   "execution_count": 11,
   "metadata": {},
   "outputs": [
    {
     "name": "stdout",
     "output_type": "stream",
     "text": [
      "helloworld\n"
     ]
    }
   ],
   "source": [
    "a = \"hello\"\n",
    "b = \"world\"\n",
    "c = a+b                    #concatenate - with no space in between\n",
    "print(c)            "
   ]
  },
  {
   "cell_type": "code",
   "execution_count": null,
   "metadata": {},
   "outputs": [],
   "source": [
    "# multi-line string\n",
    "ml_string = '''this is a multi\n",
    "line string that\n",
    "spans across 3 lines'''\n",
    "\n",
    "print(ml_string)"
   ]
  },
  {
   "cell_type": "code",
   "execution_count": 12,
   "metadata": {},
   "outputs": [
    {
     "ename": "TypeError",
     "evalue": "'str' object does not support item assignment",
     "output_type": "error",
     "traceback": [
      "\u001b[1;31m---------------------------------------------------------------------------\u001b[0m",
      "\u001b[1;31mTypeError\u001b[0m                                 Traceback (most recent call last)",
      "\u001b[1;32m<ipython-input-12-5afb2b2a098d>\u001b[0m in \u001b[0;36m<module>\u001b[1;34m()\u001b[0m\n\u001b[0;32m      1\u001b[0m \u001b[1;31m#strings are immutable\u001b[0m\u001b[1;33m\u001b[0m\u001b[1;33m\u001b[0m\u001b[0m\n\u001b[1;32m----> 2\u001b[1;33m \u001b[0ma\u001b[0m\u001b[1;33m[\u001b[0m\u001b[1;36m0\u001b[0m\u001b[1;33m]\u001b[0m \u001b[1;33m=\u001b[0m \u001b[1;34m'J'\u001b[0m\u001b[1;33m\u001b[0m\u001b[0m\n\u001b[0m",
      "\u001b[1;31mTypeError\u001b[0m: 'str' object does not support item assignment"
     ]
    }
   ],
   "source": [
    "#strings are immutable\n",
    "a[0] = 'J' "
   ]
  },
  {
   "cell_type": "code",
   "execution_count": 17,
   "metadata": {},
   "outputs": [
    {
     "name": "stdout",
     "output_type": "stream",
     "text": [
      "['a', 'b', 'c', 'd', 'e', 'f', 'g']\n"
     ]
    }
   ],
   "source": [
    "#list \n",
    "my_list = ['a', 'b', 'c', 'd', 'e', 'f', 'g']   \n",
    "print(my_list)"
   ]
  },
  {
   "cell_type": "code",
   "execution_count": null,
   "metadata": {},
   "outputs": [],
   "source": [
    "my_list.append('d')                       # add to list"
   ]
  },
  {
   "cell_type": "code",
   "execution_count": 14,
   "metadata": {},
   "outputs": [
    {
     "data": {
      "text/plain": [
       "list"
      ]
     },
     "execution_count": 14,
     "metadata": {},
     "output_type": "execute_result"
    }
   ],
   "source": [
    "type(my_list)                            # check type"
   ]
  },
  {
   "cell_type": "code",
   "execution_count": 23,
   "metadata": {},
   "outputs": [
    {
     "data": {
      "text/plain": [
       "['a', 'b', 'c', 'd', 'e']"
      ]
     },
     "execution_count": 23,
     "metadata": {},
     "output_type": "execute_result"
    }
   ],
   "source": [
    "my_list[0:-2]                             # index lists - index starts from 0.  [start : end but not including]"
   ]
  },
  {
   "cell_type": "code",
   "execution_count": 24,
   "metadata": {},
   "outputs": [
    {
     "data": {
      "text/plain": [
       "[]"
      ]
     },
     "execution_count": 24,
     "metadata": {},
     "output_type": "execute_result"
    }
   ],
   "source": [
    "my_list[5:2]"
   ]
  },
  {
   "cell_type": "code",
   "execution_count": 16,
   "metadata": {},
   "outputs": [
    {
     "data": {
      "text/plain": [
       "'hello'"
      ]
     },
     "execution_count": 16,
     "metadata": {},
     "output_type": "execute_result"
    }
   ],
   "source": [
    "my_list[-1]                              # -ve index : starts from end"
   ]
  },
  {
   "cell_type": "code",
   "execution_count": 22,
   "metadata": {},
   "outputs": [
    {
     "data": {
      "text/plain": [
       "['a', 'c', 'e', 'g']"
      ]
     },
     "execution_count": 22,
     "metadata": {},
     "output_type": "execute_result"
    }
   ],
   "source": [
    "my_list[::2]                           # slicing has 3 parameters with last 2 being optional [<start>:<stop>:<step>]"
   ]
  },
  {
   "cell_type": "code",
   "execution_count": 20,
   "metadata": {},
   "outputs": [
    {
     "data": {
      "text/plain": [
       "['g', 'f', 'e', 'd', 'c', 'b', 'a']"
      ]
     },
     "execution_count": 20,
     "metadata": {},
     "output_type": "execute_result"
    }
   ],
   "source": [
    "#What is this doing?\n",
    "my_list[::-1]        "
   ]
  },
  {
   "cell_type": "code",
   "execution_count": 25,
   "metadata": {},
   "outputs": [
    {
     "name": "stdout",
     "output_type": "stream",
     "text": [
      "['A', 'b', 'c', 'd', 'e', 'f', 'g']\n"
     ]
    }
   ],
   "source": [
    "my_list[0] = \"A\"                           # reassign values of list\n",
    "print(my_list)"
   ]
  },
  {
   "cell_type": "code",
   "execution_count": 27,
   "metadata": {},
   "outputs": [
    {
     "name": "stdout",
     "output_type": "stream",
     "text": [
      "[1, 2, 3, [1, 2, 3, [1, 2, 'target']]]\n"
     ]
    }
   ],
   "source": [
    "n_list = [1,2,3,[1,2,3,[1,2,'target']]]     #nested list\n",
    "print(n_list)"
   ]
  },
  {
   "cell_type": "code",
   "execution_count": 29,
   "metadata": {},
   "outputs": [
    {
     "data": {
      "text/plain": [
       "[1, 2, 3, [1, 2, 'target']]"
      ]
     },
     "execution_count": 29,
     "metadata": {},
     "output_type": "execute_result"
    }
   ],
   "source": [
    "n_list[3]"
   ]
  },
  {
   "cell_type": "code",
   "execution_count": 30,
   "metadata": {},
   "outputs": [
    {
     "data": {
      "text/plain": [
       "[1, 2, 'target']"
      ]
     },
     "execution_count": 30,
     "metadata": {},
     "output_type": "execute_result"
    }
   ],
   "source": [
    "n_list[3][3]"
   ]
  },
  {
   "cell_type": "code",
   "execution_count": 31,
   "metadata": {},
   "outputs": [
    {
     "data": {
      "text/plain": [
       "'target'"
      ]
     },
     "execution_count": 31,
     "metadata": {},
     "output_type": "execute_result"
    }
   ],
   "source": [
    "n_list[3][3][2]"
   ]
  },
  {
   "cell_type": "code",
   "execution_count": 32,
   "metadata": {},
   "outputs": [
    {
     "name": "stdout",
     "output_type": "stream",
     "text": [
      "['f', 'd', 'c', 'a', 'b']\n"
     ]
    }
   ],
   "source": [
    "#list \n",
    "my_list = ['b', 'a', 'c', 'd', 'f']\n",
    "\n",
    "my_list.reverse()                           #reverse the list\n",
    "print(my_list)"
   ]
  },
  {
   "cell_type": "code",
   "execution_count": 33,
   "metadata": {},
   "outputs": [
    {
     "name": "stdout",
     "output_type": "stream",
     "text": [
      "['a', 'b', 'c', 'd', 'f']\n"
     ]
    }
   ],
   "source": [
    "my_list.sort()                               #sort the list\n",
    "print(my_list)"
   ]
  },
  {
   "cell_type": "code",
   "execution_count": null,
   "metadata": {},
   "outputs": [],
   "source": [
    "my_list.pop(3)                               #removes the element at specified position\n",
    "print(my_list)"
   ]
  },
  {
   "cell_type": "code",
   "execution_count": 34,
   "metadata": {},
   "outputs": [
    {
     "name": "stdout",
     "output_type": "stream",
     "text": [
      "[]\n"
     ]
    }
   ],
   "source": [
    "my_list.clear()                              #removes all the elements of the list\n",
    "print(my_list)"
   ]
  },
  {
   "cell_type": "code",
   "execution_count": 35,
   "metadata": {},
   "outputs": [],
   "source": [
    "#tuple - similar to list but unmutable (cannot be changed)\n",
    "t = (1,2,3)"
   ]
  },
  {
   "cell_type": "code",
   "execution_count": 36,
   "metadata": {},
   "outputs": [
    {
     "name": "stdout",
     "output_type": "stream",
     "text": [
      "1\n"
     ]
    }
   ],
   "source": [
    "print(t[0])"
   ]
  },
  {
   "cell_type": "code",
   "execution_count": 37,
   "metadata": {},
   "outputs": [
    {
     "ename": "TypeError",
     "evalue": "'tuple' object does not support item assignment",
     "output_type": "error",
     "traceback": [
      "\u001b[1;31m---------------------------------------------------------------------------\u001b[0m",
      "\u001b[1;31mTypeError\u001b[0m                                 Traceback (most recent call last)",
      "\u001b[1;32m<ipython-input-37-0850dca36eac>\u001b[0m in \u001b[0;36m<module>\u001b[1;34m()\u001b[0m\n\u001b[0;32m      1\u001b[0m \u001b[1;31m#tuple is immutable\u001b[0m\u001b[1;33m\u001b[0m\u001b[1;33m\u001b[0m\u001b[0m\n\u001b[1;32m----> 2\u001b[1;33m \u001b[0mt\u001b[0m\u001b[1;33m[\u001b[0m\u001b[1;36m0\u001b[0m\u001b[1;33m]\u001b[0m \u001b[1;33m=\u001b[0m \u001b[1;36m5\u001b[0m                                      \u001b[1;31m# will give an error\u001b[0m\u001b[1;33m\u001b[0m\u001b[0m\n\u001b[0m",
      "\u001b[1;31mTypeError\u001b[0m: 'tuple' object does not support item assignment"
     ]
    }
   ],
   "source": [
    "#tuple is immutable\n",
    "t[0] = 5                                      # will give an error"
   ]
  },
  {
   "cell_type": "code",
   "execution_count": 38,
   "metadata": {},
   "outputs": [],
   "source": [
    "# Set is collection of \"unique\" elements\n",
    "s = {1,2,3,4,5,5,4,3,2,1}                   # curly braces"
   ]
  },
  {
   "cell_type": "code",
   "execution_count": 39,
   "metadata": {},
   "outputs": [
    {
     "name": "stdout",
     "output_type": "stream",
     "text": [
      "{1, 2, 3, 4, 5}\n"
     ]
    }
   ],
   "source": [
    "print(s)"
   ]
  },
  {
   "cell_type": "code",
   "execution_count": 40,
   "metadata": {},
   "outputs": [
    {
     "name": "stdout",
     "output_type": "stream",
     "text": [
      "{1, 2, 3, 4, 5, 6}\n"
     ]
    }
   ],
   "source": [
    "s.add(6)                                    # add to a set\n",
    "print(s)"
   ]
  },
  {
   "cell_type": "code",
   "execution_count": 41,
   "metadata": {},
   "outputs": [
    {
     "name": "stdout",
     "output_type": "stream",
     "text": [
      "{2, 3, 4, 5, 6}\n"
     ]
    }
   ],
   "source": [
    "s.pop()                                     # removes first element \n",
    "print(s)"
   ]
  },
  {
   "cell_type": "code",
   "execution_count": 42,
   "metadata": {},
   "outputs": [
    {
     "name": "stdout",
     "output_type": "stream",
     "text": [
      "A U B {1, 2, 3, 4, 5, 6, 7, 8}\n",
      "A int B: {4, 5}\n",
      "A diff B {1, 2, 3}\n",
      "A common B: {1, 2, 3, 6, 7, 8}\n"
     ]
    }
   ],
   "source": [
    "#Set Operations:\n",
    "\n",
    "A = {1, 2, 3, 4, 5}\n",
    "B = {4, 5, 6, 7, 8}\n",
    "\n",
    "# Set union: | operator\n",
    "print(\"A U B\", A | B)                     # Also -> A.union(B) or B.union(A) \n",
    "\n",
    "#Set intersection: & operator\n",
    "print(\"A int B:\", A & B)                  # Also -> A.intersection(B)\n",
    "\n",
    "#Set difference: - operator\n",
    "print(\"A diff B\", A - B)\n",
    "\n",
    "#Set symmetric difference (All but common elements): ^ operator\n",
    "print(\"A common B:\", A ^ B)"
   ]
  },
  {
   "cell_type": "code",
   "execution_count": 43,
   "metadata": {},
   "outputs": [
    {
     "name": "stdout",
     "output_type": "stream",
     "text": [
      "range(0, 10)\n"
     ]
    }
   ],
   "source": [
    "#range\n",
    "\n",
    "X = range(10)\n",
    "print(X)"
   ]
  },
  {
   "cell_type": "code",
   "execution_count": 45,
   "metadata": {},
   "outputs": [
    {
     "data": {
      "text/plain": [
       "0"
      ]
     },
     "execution_count": 45,
     "metadata": {},
     "output_type": "execute_result"
    }
   ],
   "source": [
    "X[0]"
   ]
  },
  {
   "cell_type": "code",
   "execution_count": 49,
   "metadata": {},
   "outputs": [
    {
     "ename": "IndexError",
     "evalue": "range object index out of range",
     "output_type": "error",
     "traceback": [
      "\u001b[1;31m---------------------------------------------------------------------------\u001b[0m",
      "\u001b[1;31mIndexError\u001b[0m                                Traceback (most recent call last)",
      "\u001b[1;32m<ipython-input-49-208c4bd9ab55>\u001b[0m in \u001b[0;36m<module>\u001b[1;34m()\u001b[0m\n\u001b[1;32m----> 1\u001b[1;33m \u001b[0mX\u001b[0m\u001b[1;33m[\u001b[0m\u001b[1;36m10\u001b[0m\u001b[1;33m]\u001b[0m\u001b[1;33m\u001b[0m\u001b[0m\n\u001b[0m",
      "\u001b[1;31mIndexError\u001b[0m: range object index out of range"
     ]
    }
   ],
   "source": [
    "X[10]"
   ]
  },
  {
   "cell_type": "code",
   "execution_count": 50,
   "metadata": {},
   "outputs": [
    {
     "data": {
      "text/plain": [
       "range"
      ]
     },
     "execution_count": 50,
     "metadata": {},
     "output_type": "execute_result"
    }
   ],
   "source": [
    "type(X)"
   ]
  },
  {
   "cell_type": "code",
   "execution_count": 51,
   "metadata": {},
   "outputs": [],
   "source": [
    "#Dict - key value pairs just like a hash table\n",
    "d  =  {'key1':'Kamal', 'key2': 100, 5: \"Sachin\"}"
   ]
  },
  {
   "cell_type": "code",
   "execution_count": 52,
   "metadata": {},
   "outputs": [
    {
     "data": {
      "text/plain": [
       "'Kamal'"
      ]
     },
     "execution_count": 52,
     "metadata": {},
     "output_type": "execute_result"
    }
   ],
   "source": [
    "d['key1']                                  # value accessed using key"
   ]
  },
  {
   "cell_type": "code",
   "execution_count": 54,
   "metadata": {},
   "outputs": [
    {
     "data": {
      "text/plain": [
       "'Sachin'"
      ]
     },
     "execution_count": 54,
     "metadata": {},
     "output_type": "execute_result"
    }
   ],
   "source": [
    "#what will this print?\n",
    "d[5]"
   ]
  },
  {
   "cell_type": "code",
   "execution_count": 56,
   "metadata": {},
   "outputs": [
    {
     "data": {
      "text/plain": [
       "dict"
      ]
     },
     "execution_count": 56,
     "metadata": {},
     "output_type": "execute_result"
    }
   ],
   "source": [
    "type(d)"
   ]
  },
  {
   "cell_type": "code",
   "execution_count": 57,
   "metadata": {},
   "outputs": [
    {
     "data": {
      "text/plain": [
       "'Kathik'"
      ]
     },
     "execution_count": 57,
     "metadata": {},
     "output_type": "execute_result"
    }
   ],
   "source": [
    "#Get the key for largest value in a dict?\n",
    "\n",
    "answered = {'Kathik': 19, 'Kumar': 17,'Sunil': 12,'Komal': 10,'Mehuya': 15, 'Ashad': 10, 'Sachin' : 5}\n",
    "\n",
    "max(answered, key=answered.get)                           # who has answered the most no of questions?"
   ]
  },
  {
   "cell_type": "code",
   "execution_count": 58,
   "metadata": {},
   "outputs": [
    {
     "data": {
      "text/plain": [
       "'Sachin'"
      ]
     },
     "execution_count": 58,
     "metadata": {},
     "output_type": "execute_result"
    }
   ],
   "source": [
    "min(answered, key=answered.get)                           # who has answered the least no of questions?"
   ]
  },
  {
   "cell_type": "code",
   "execution_count": 59,
   "metadata": {},
   "outputs": [
    {
     "data": {
      "text/plain": [
       "bool"
      ]
     },
     "execution_count": 59,
     "metadata": {},
     "output_type": "execute_result"
    }
   ],
   "source": [
    "#Boolean variables\n",
    "a1 = True\n",
    "type(a1)"
   ]
  },
  {
   "cell_type": "code",
   "execution_count": 73,
   "metadata": {},
   "outputs": [
    {
     "data": {
      "text/plain": [
       "(1, 2, [3, 4])"
      ]
     },
     "execution_count": 73,
     "metadata": {},
     "output_type": "execute_result"
    }
   ],
   "source": [
    "p1 = (1 ,2 ,[3,'A'])\n",
    "p1[2][1] = 4 \n",
    "p1"
   ]
  },
  {
   "cell_type": "markdown",
   "metadata": {},
   "source": [
    "### 2. Variable & Expressions\n",
    "- variable name must start with a letter or the underscore character\n",
    "- variable name cannot start with a number\n",
    "- variable name can only contain alpha-numeric characters and underscores (A-z, 0-9, and _ )\n",
    "- can be of arbitrary length\n",
    "- variables do not need to be declared with any particular type\n",
    "- type can be changed even after they have been set\n",
    "- variable names are case-sensitive"
   ]
  },
  {
   "cell_type": "code",
   "execution_count": 74,
   "metadata": {},
   "outputs": [
    {
     "name": "stdout",
     "output_type": "stream",
     "text": [
      "1 3\n"
     ]
    }
   ],
   "source": [
    "# There are no variables in Python - unlike other languages like C or R \n",
    "# Python has names and objects.\n",
    "# Assignment binds a name to an object.\n",
    "# Passing an argument into a function also binds a name\n",
    "\n",
    "a = 1                         # binds the name a to an object of type integer that holds the value 1.\n",
    "b = a                         # b also point to the same object as a.\n",
    "\n",
    "b = 3                         # now the name b is bound to another object. a doesn't change\n",
    "print(a, b)"
   ]
  },
  {
   "cell_type": "code",
   "execution_count": 81,
   "metadata": {},
   "outputs": [
    {
     "data": {
      "text/plain": [
       "True"
      ]
     },
     "execution_count": 81,
     "metadata": {},
     "output_type": "execute_result"
    }
   ],
   "source": [
    "#another example\n",
    "a = [1, 2, 3]\n",
    "b = [1,2,3]\n"
   ]
  },
  {
   "cell_type": "code",
   "execution_count": 79,
   "metadata": {},
   "outputs": [
    {
     "name": "stdout",
     "output_type": "stream",
     "text": [
      "[1, 2, 3, 5] ['Python', 'is', 'Strange']\n"
     ]
    }
   ],
   "source": [
    "b = ['Python','is', 'Strange']\n",
    "print (a, b)  "
   ]
  },
  {
   "cell_type": "code",
   "execution_count": 83,
   "metadata": {},
   "outputs": [
    {
     "ename": "SyntaxError",
     "evalue": "invalid syntax (<ipython-input-83-1d63a1d4b2c2>, line 6)",
     "output_type": "error",
     "traceback": [
      "\u001b[1;36m  File \u001b[1;32m\"<ipython-input-83-1d63a1d4b2c2>\"\u001b[1;36m, line \u001b[1;32m6\u001b[0m\n\u001b[1;33m    1myVar = \"John\"\u001b[0m\n\u001b[1;37m         ^\u001b[0m\n\u001b[1;31mSyntaxError\u001b[0m\u001b[1;31m:\u001b[0m invalid syntax\n"
     ]
    }
   ],
   "source": [
    "# Which of the following is incorrect variable name? \n",
    "myvar = \"John\"   \n",
    "my_var = \"John\"\n",
    "my__var = \"John\"\n",
    "_my_var = \"John\"\n",
    "myVar = \"John\""
   ]
  },
  {
   "cell_type": "code",
   "execution_count": 84,
   "metadata": {},
   "outputs": [],
   "source": [
    "x = y = z = 5                              # assigning the same value to multiple variables in one statement"
   ]
  },
  {
   "cell_type": "code",
   "execution_count": 85,
   "metadata": {},
   "outputs": [
    {
     "name": "stdout",
     "output_type": "stream",
     "text": [
      "5 5 5\n"
     ]
    }
   ],
   "source": [
    "print ( x, y, z)"
   ]
  },
  {
   "cell_type": "code",
   "execution_count": 86,
   "metadata": {},
   "outputs": [],
   "source": [
    "x, y, z = 10, 200, 300                     # assigning different values to multiple variables in one statement"
   ]
  },
  {
   "cell_type": "code",
   "execution_count": 87,
   "metadata": {},
   "outputs": [
    {
     "name": "stdout",
     "output_type": "stream",
     "text": [
      "10 200 300\n"
     ]
    }
   ],
   "source": [
    "print ( x, y, z)"
   ]
  },
  {
   "cell_type": "code",
   "execution_count": 88,
   "metadata": {},
   "outputs": [
    {
     "name": "stdout",
     "output_type": "stream",
     "text": [
      "apple banana cherry\n"
     ]
    }
   ],
   "source": [
    "fruits = [\"apple\", \"banana\", \"cherry\"]\n",
    "x, y, z = fruits                           # unpacking a list\n",
    "print(x, y, z)"
   ]
  },
  {
   "cell_type": "code",
   "execution_count": 91,
   "metadata": {},
   "outputs": [
    {
     "ename": "ValueError",
     "evalue": "too many values to unpack (expected 2)",
     "output_type": "error",
     "traceback": [
      "\u001b[1;31m---------------------------------------------------------------------------\u001b[0m",
      "\u001b[1;31mValueError\u001b[0m                                Traceback (most recent call last)",
      "\u001b[1;32m<ipython-input-91-959d6a331759>\u001b[0m in \u001b[0;36m<module>\u001b[1;34m()\u001b[0m\n\u001b[0;32m      2\u001b[0m \u001b[1;33m\u001b[0m\u001b[0m\n\u001b[0;32m      3\u001b[0m \u001b[0mfruits\u001b[0m \u001b[1;33m=\u001b[0m \u001b[1;33m[\u001b[0m\u001b[1;34m\"apple\"\u001b[0m\u001b[1;33m,\u001b[0m \u001b[1;34m\"banana\"\u001b[0m\u001b[1;33m,\u001b[0m \u001b[1;34m\"cherry\"\u001b[0m\u001b[1;33m]\u001b[0m\u001b[1;33m\u001b[0m\u001b[0m\n\u001b[1;32m----> 4\u001b[1;33m \u001b[0mx\u001b[0m\u001b[1;33m,\u001b[0m \u001b[0my\u001b[0m  \u001b[1;33m=\u001b[0m \u001b[0mfruits\u001b[0m\u001b[1;33m\u001b[0m\u001b[0m\n\u001b[0m\u001b[0;32m      5\u001b[0m \u001b[0mprint\u001b[0m\u001b[1;33m(\u001b[0m\u001b[0mx\u001b[0m\u001b[1;33m)\u001b[0m\u001b[1;33m\u001b[0m\u001b[0m\n",
      "\u001b[1;31mValueError\u001b[0m: too many values to unpack (expected 2)"
     ]
    }
   ],
   "source": [
    "# What will this print?\n",
    "\n",
    "fruits = [\"apple\", \"banana\", \"cherry\"]\n",
    "x, *y  = fruits                        \n",
    "print(x)"
   ]
  },
  {
   "cell_type": "markdown",
   "metadata": {},
   "source": [
    "#### 2.2 Casting from one type to another"
   ]
  },
  {
   "cell_type": "code",
   "execution_count": 95,
   "metadata": {},
   "outputs": [],
   "source": [
    "x = int(4.257) \n",
    "y = str(2.0)\n",
    "val = float(\"2.56\")"
   ]
  },
  {
   "cell_type": "code",
   "execution_count": 96,
   "metadata": {},
   "outputs": [
    {
     "name": "stdout",
     "output_type": "stream",
     "text": [
      "4 <class 'int'>\n"
     ]
    }
   ],
   "source": [
    "print(x, type(x))"
   ]
  },
  {
   "cell_type": "code",
   "execution_count": 97,
   "metadata": {},
   "outputs": [
    {
     "name": "stdout",
     "output_type": "stream",
     "text": [
      "2.0 <class 'str'>\n"
     ]
    }
   ],
   "source": [
    "print(y, type(y))"
   ]
  },
  {
   "cell_type": "code",
   "execution_count": 98,
   "metadata": {},
   "outputs": [
    {
     "name": "stdout",
     "output_type": "stream",
     "text": [
      "2.56 <class 'float'>\n"
     ]
    }
   ],
   "source": [
    "print(val, type(val))"
   ]
  },
  {
   "cell_type": "markdown",
   "metadata": {},
   "source": [
    "### 3. Language Basics\n",
    "- Operators\n",
    "    - Arithmetic : +, - , *, /, %, ** , // \n",
    "    - Bitwise    : &, |, ^, ~, >>, <<\n",
    "    - Assignment : =, +=, -=, *=, /=, &= , ^= etc.\n",
    "    - Comparison : ==, !=, >, < , >=, <= \n",
    "    - Logical    : and, or, not\n",
    "    - Identity   : is, is not\n",
    "    - Membership : in, not in\n",
    "- Conditional statements ( if, elif, else)\n",
    "- Loops ( for, while)"
   ]
  },
  {
   "cell_type": "code",
   "execution_count": 99,
   "metadata": {},
   "outputs": [
    {
     "data": {
      "text/plain": [
       "25"
      ]
     },
     "execution_count": 99,
     "metadata": {},
     "output_type": "execute_result"
    }
   ],
   "source": [
    "5*5"
   ]
  },
  {
   "cell_type": "code",
   "execution_count": null,
   "metadata": {},
   "outputs": [],
   "source": [
    "1 > 3"
   ]
  },
  {
   "cell_type": "code",
   "execution_count": 100,
   "metadata": {},
   "outputs": [
    {
     "data": {
      "text/plain": [
       "True"
      ]
     },
     "execution_count": 100,
     "metadata": {},
     "output_type": "execute_result"
    }
   ],
   "source": [
    "a = 1\n",
    "b = 1.0\n",
    "a == b                                    # What will this print?"
   ]
  },
  {
   "cell_type": "code",
   "execution_count": null,
   "metadata": {},
   "outputs": [],
   "source": [
    "(1 < 2) and (2 < 3)                       # True and True = True"
   ]
  },
  {
   "cell_type": "code",
   "execution_count": 101,
   "metadata": {},
   "outputs": [
    {
     "data": {
      "text/plain": [
       "4"
      ]
     },
     "execution_count": 101,
     "metadata": {},
     "output_type": "execute_result"
    }
   ],
   "source": [
    "2 << 1                                    # shift 00000010 to 00000100 "
   ]
  },
  {
   "cell_type": "code",
   "execution_count": 102,
   "metadata": {},
   "outputs": [
    {
     "data": {
      "text/plain": [
       "1"
      ]
     },
     "execution_count": 102,
     "metadata": {},
     "output_type": "execute_result"
    }
   ],
   "source": [
    "2 >> 1                                    # shift 00000010 to 00000001"
   ]
  },
  {
   "cell_type": "code",
   "execution_count": 105,
   "metadata": {},
   "outputs": [
    {
     "data": {
      "text/plain": [
       "[1, 2, 3, 4, 5, 6, 7, 8, 9, 10, 8]"
      ]
     },
     "execution_count": 105,
     "metadata": {},
     "output_type": "execute_result"
    }
   ],
   "source": [
    "# is - returns True if both variables are the same object\n",
    "a = [1,2,3,4,5,6,7,8,9,10]\n",
    "x = a\n",
    "y = a\n",
    "x is y        #objects are same"
   ]
  },
  {
   "cell_type": "code",
   "execution_count": 106,
   "metadata": {},
   "outputs": [
    {
     "data": {
      "text/plain": [
       "False"
      ]
     },
     "execution_count": 106,
     "metadata": {},
     "output_type": "execute_result"
    }
   ],
   "source": [
    "a = [1,2,3,4,5,6,7,8,9,10]\n",
    "x = a\n",
    "y = [1,2,3,4,5,6,7,8,9,10]          # a different object\n",
    "x is y"
   ]
  },
  {
   "cell_type": "code",
   "execution_count": 107,
   "metadata": {},
   "outputs": [
    {
     "data": {
      "text/plain": [
       "True"
      ]
     },
     "execution_count": 107,
     "metadata": {},
     "output_type": "execute_result"
    }
   ],
   "source": [
    "# in operator - returns True if a sequence with the specified value is present in the object\n",
    "5 in [3,4,5,6]"
   ]
  },
  {
   "cell_type": "code",
   "execution_count": 108,
   "metadata": {},
   "outputs": [
    {
     "data": {
      "text/plain": [
       "True"
      ]
     },
     "execution_count": 108,
     "metadata": {},
     "output_type": "execute_result"
    }
   ],
   "source": [
    "\"ap\" in \"An apple a day\""
   ]
  },
  {
   "cell_type": "code",
   "execution_count": 109,
   "metadata": {},
   "outputs": [
    {
     "data": {
      "text/plain": [
       "True"
      ]
     },
     "execution_count": 109,
     "metadata": {},
     "output_type": "execute_result"
    }
   ],
   "source": [
    "7 in {1, 3 , 5, 7, 9}"
   ]
  },
  {
   "cell_type": "markdown",
   "metadata": {},
   "source": [
    "#### 3.2 Conditional Statements"
   ]
  },
  {
   "cell_type": "code",
   "execution_count": 110,
   "metadata": {},
   "outputs": [
    {
     "name": "stdout",
     "output_type": "stream",
     "text": [
      " 1 less than 2\n"
     ]
    }
   ],
   "source": [
    "# if statement - needs to be indented\n",
    "if 1<2:\n",
    "    print(' 1 less than 2')"
   ]
  },
  {
   "cell_type": "code",
   "execution_count": 111,
   "metadata": {},
   "outputs": [
    {
     "name": "stdout",
     "output_type": "stream",
     "text": [
      "this is outside if block\n"
     ]
    }
   ],
   "source": [
    "# if statement - needs to be indented ( python will throw an error without indent)\n",
    "if 1>2:\n",
    "    print(\"this is inside if block\")\n",
    "print('this is outside if block')"
   ]
  },
  {
   "cell_type": "code",
   "execution_count": 112,
   "metadata": {},
   "outputs": [
    {
     "name": "stdout",
     "output_type": "stream",
     "text": [
      "X is greater than Y\n"
     ]
    }
   ],
   "source": [
    "x = 10\n",
    "y = 5\n",
    "\n",
    "if x==y:\n",
    "    print('X and Y are equal')\n",
    "elif x<y:                                         # can have more than one elif\n",
    "    print('X is smaller than Y')\n",
    "else:\n",
    "    print('X is greater than Y')"
   ]
  },
  {
   "cell_type": "code",
   "execution_count": 113,
   "metadata": {},
   "outputs": [
    {
     "name": "stdout",
     "output_type": "stream",
     "text": [
      "B\n"
     ]
    }
   ],
   "source": [
    "#shorthand if else syntax - also called  Ternary Operators \n",
    "a = 2\n",
    "b = 330\n",
    "print(\"A\") if a > b else print(\"B\")"
   ]
  },
  {
   "cell_type": "code",
   "execution_count": 114,
   "metadata": {},
   "outputs": [
    {
     "name": "stdout",
     "output_type": "stream",
     "text": [
      "Equal\n"
     ]
    }
   ],
   "source": [
    "# can have more than one condition as well\n",
    "a = b = 330\n",
    "print(\"A\") if a > b else print(\"Equal\") if a == b else print(\"B\")"
   ]
  },
  {
   "cell_type": "code",
   "execution_count": 115,
   "metadata": {},
   "outputs": [
    {
     "name": "stdout",
     "output_type": "stream",
     "text": [
      "You have chosen a number greater than 10\n",
      "Its also above 20 .. Good choice!\n"
     ]
    }
   ],
   "source": [
    "#Nested if\n",
    "x = 41\n",
    "if x > 10:\n",
    "    print(\"You have chosen a number greater than 10\")\n",
    "    if x > 20:\n",
    "        print(\"Its also above 20 .. Good choice!\")\n",
    "    else:\n",
    "        print(\"but not above 20.\")"
   ]
  },
  {
   "cell_type": "code",
   "execution_count": null,
   "metadata": {},
   "outputs": [],
   "source": [
    "# The pass Statement - if statements cannot be empty. Put in the pass statement to avoid getting an error.\n",
    "a = 2\n",
    "\n",
    "if a == 2:\n",
    "    pass\n"
   ]
  },
  {
   "cell_type": "markdown",
   "metadata": {},
   "source": [
    "#### 3.3 Loops\n",
    "for loop:\n",
    "   - A for loop is used for iterating over a sequence (that is either a list, a tuple, a dictionary, a set, or a string).\n",
    "   - This is less like the for keyword in other programming languages, and works more like an iterator method (similar to R).\n",
    "   - Using for loop we can execute a set of statements, once for each item in a list, tuple, set etc.\n",
    "   - C for loop example: for (i = 1; i < 11; ++i) {}"
   ]
  },
  {
   "cell_type": "code",
   "execution_count": 116,
   "metadata": {},
   "outputs": [
    {
     "name": "stdout",
     "output_type": "stream",
     "text": [
      "item is 1\n",
      "item is 2\n",
      "item is 3\n",
      "item is 4\n",
      "item is 5\n"
     ]
    }
   ],
   "source": [
    "seq = [1,2,3,4,5]\n",
    "\n",
    "for item in seq:\n",
    "    print(f'item is {item}')                "
   ]
  },
  {
   "cell_type": "code",
   "execution_count": 117,
   "metadata": {},
   "outputs": [
    {
     "name": "stdout",
     "output_type": "stream",
     "text": [
      "apple\n",
      "banana\n",
      "take a break\n"
     ]
    }
   ],
   "source": [
    "# use break to break out of for loop\n",
    "\n",
    "fruits = [\"apple\", \"banana\", \"cherry\", \"mango\", \"peaches\"]\n",
    "\n",
    "for x in fruits:\n",
    "    print(x)\n",
    "    if x == \"banana\":\n",
    "        print(\"take a break\")\n",
    "        break"
   ]
  },
  {
   "cell_type": "code",
   "execution_count": 118,
   "metadata": {},
   "outputs": [
    {
     "name": "stdout",
     "output_type": "stream",
     "text": [
      "What's for lunch?\n",
      "apple\n",
      "cherry\n",
      "mango\n",
      "peaches\n"
     ]
    }
   ],
   "source": [
    "# use continue statement to skip the current iteration of the loop, and continue with the next:\n",
    "\n",
    "fruits = [\"apple\", \"banana\", \"cherry\", \"mango\", \"peaches\"]    \n",
    "\n",
    "print(\"What's for lunch?\")\n",
    "\n",
    "for x in fruits:\n",
    "    if x == \"banana\":                    # let's skip banana for lunch\n",
    "        continue              \n",
    "    print(x)"
   ]
  },
  {
   "cell_type": "code",
   "execution_count": 119,
   "metadata": {},
   "outputs": [
    {
     "name": "stdout",
     "output_type": "stream",
     "text": [
      "0\n",
      "1\n",
      "2\n",
      "3\n",
      "4\n",
      "5\n",
      "Finally finished!\n"
     ]
    }
   ],
   "source": [
    "# else in for loop - specifies a block of code to be executed when the loop is finished.\n",
    "\n",
    "for x in range(6):\n",
    "    print(x)\n",
    "else:\n",
    "    print(\"Finally finished!\")"
   ]
  },
  {
   "cell_type": "code",
   "execution_count": 126,
   "metadata": {},
   "outputs": [
    {
     "name": "stdout",
     "output_type": "stream",
     "text": [
      "0\n",
      "1\n",
      "2\n"
     ]
    }
   ],
   "source": [
    "# What will this print?\n",
    "\n",
    "for x in range(6):\n",
    "    if x == 3: \n",
    "        break\n",
    "    print(x)\n",
    "else:\n",
    "    print(\"Finally finished!\")"
   ]
  },
  {
   "cell_type": "code",
   "execution_count": null,
   "metadata": {},
   "outputs": [],
   "source": [
    "# The pass Statement - for statements cannot be empty. Put in the pass statement to avoid getting an error.\n",
    "for x in [0, 1, 2]:\n",
    "    pass                                             # do nothing\n"
   ]
  },
  {
   "cell_type": "markdown",
   "metadata": {},
   "source": [
    "#### 3.4 List Comprehension \n",
    "- List comprehensions are used for creating new lists from other iterables like tuples, strings, arrays, lists, etc. \n",
    "- A list comprehension consists of brackets containing the expression, which is executed for each element along with the for loop to iterate over each element. <br>\n",
    "- Combines [] with for and if \n",
    "##### Syntax: newList = [<expression(item)> for  (item) in [oldList] if (condition) ] "
   ]
  },
  {
   "cell_type": "code",
   "execution_count": 127,
   "metadata": {},
   "outputs": [],
   "source": [
    "# Initializing list\n",
    "List = [12,13,17,22,19,23,16,54,77,96]\n",
    " \n",
    "# Square the even elements of the list\n",
    "newList = [i*i for i in List if i%2 == 0]"
   ]
  },
  {
   "cell_type": "code",
   "execution_count": 128,
   "metadata": {},
   "outputs": [
    {
     "name": "stdout",
     "output_type": "stream",
     "text": [
      "[144, 484, 256, 2916, 9216]\n"
     ]
    }
   ],
   "source": [
    "print(newList)"
   ]
  },
  {
   "cell_type": "code",
   "execution_count": 129,
   "metadata": {},
   "outputs": [
    {
     "data": {
      "text/plain": [
       "(9801, 9801)"
      ]
     },
     "execution_count": 129,
     "metadata": {},
     "output_type": "execute_result"
    }
   ],
   "source": [
    "# list comprehension is shorter to code and more efficient in execution as well\n",
    "n = 100\n",
    "\n",
    "# get square of number upto 100 - for loop\n",
    "result1 = []\n",
    "for i in range(n):\n",
    "    result1.append(i**2)\n",
    "    \n",
    "# get square of number upto 100 - for loop\n",
    "result2 = [i**2 for i in range(n)]\n",
    "\n",
    "# Check check\n",
    "result1[99] , result2[99]"
   ]
  },
  {
   "cell_type": "code",
   "execution_count": 130,
   "metadata": {},
   "outputs": [
    {
     "name": "stdout",
     "output_type": "stream",
     "text": [
      "[4, 16, 36, 64, 100, 144, 196, 256, 324, 400, 484, 576, 676, 784, 900, 1024, 1156, 1296, 1444, 1600, 1764, 1936, 2116, 2304]\n"
     ]
    }
   ],
   "source": [
    "# getting square of even numbers from 1 to 50\n",
    "squares = [n**2 for n in range(1, 50) if n%2==0]\n",
    "print(squares)"
   ]
  },
  {
   "cell_type": "code",
   "execution_count": 131,
   "metadata": {},
   "outputs": [
    {
     "name": "stdout",
     "output_type": "stream",
     "text": [
      "['tseB', 'ataD', 'ecneicS', 'ecnadiuG', 'gnihcaoC']\n"
     ]
    }
   ],
   "source": [
    "# Reverse each string in a tuple\n",
    "List = [string[::-1] for string in ('Best', 'Data', 'Science', 'Guidance', 'Coaching')]\n",
    "print(List)"
   ]
  },
  {
   "cell_type": "markdown",
   "metadata": {},
   "source": [
    "#### 3.5 While Loop\n",
    "- while loop execute a set of statements as long as a condition is true. \n",
    "- requires relevant variables (checked in condition) to be available\n",
    "- continue statement:  to skip the current iteration\n",
    "- else block: to run a block of code once when the condition no longer is true "
   ]
  },
  {
   "cell_type": "code",
   "execution_count": 1,
   "metadata": {},
   "outputs": [
    {
     "name": "stdout",
     "output_type": "stream",
     "text": [
      "loop no 1\n",
      "loop no 2\n",
      "loop no 3\n",
      "loop no 4\n",
      "Out of loop\n",
      "5\n"
     ]
    }
   ],
   "source": [
    "#simple while loop\n",
    "i = 1\n",
    "\n",
    "while i<5:\n",
    "    print(\"loop no\", i)\n",
    "    i+=1\n",
    "\n",
    "print(\"Out of loop\")\n",
    "print(i)"
   ]
  },
  {
   "cell_type": "code",
   "execution_count": 133,
   "metadata": {},
   "outputs": [
    {
     "name": "stdout",
     "output_type": "stream",
     "text": [
      "Else: i=7\n"
     ]
    }
   ],
   "source": [
    "# use of else - execute when the condition is false\n",
    "i = 7\n",
    "while i < 6:\n",
    "    print(i)\n",
    "    i += 1\n",
    "else:\n",
    "    print(f'Else: i={i}')"
   ]
  },
  {
   "cell_type": "markdown",
   "metadata": {},
   "source": [
    "### 4. Functions\n",
    "- a block of code which only runs when it is called\n",
    "- can pass data, known as parameters, into a function\n",
    "- can return data (multiple values) as a result\n",
    "- use the function name followed by parenthesis to call the function\n",
    "- arguments are specified after the function name, inside the parentheses"
   ]
  },
  {
   "cell_type": "code",
   "execution_count": 134,
   "metadata": {},
   "outputs": [
    {
     "name": "stdout",
     "output_type": "stream",
     "text": [
      "529\n"
     ]
    }
   ],
   "source": [
    "# function definition starts with def and has a colon. curly brackets are not required\n",
    "def square(num):\n",
    "    return num**2\n",
    "\n",
    "a = 23\n",
    "result = square(a)\n",
    "print(result)"
   ]
  },
  {
   "cell_type": "code",
   "execution_count": 135,
   "metadata": {},
   "outputs": [
    {
     "name": "stdout",
     "output_type": "stream",
     "text": [
      "8 7\n"
     ]
    }
   ],
   "source": [
    "#multiple return values \n",
    "\n",
    "def add(a, b):\n",
    "    return a+5, b+5\n",
    "\n",
    "c,d = add(3, 2)\n",
    "print(c,d)"
   ]
  },
  {
   "cell_type": "markdown",
   "metadata": {},
   "source": [
    "#### 4.2 Arbitrary Arguments :  *  and  **\n",
    " - 1. Arbitrary arguments, *args \n",
    "     - function takes a list of arguments\n",
    " - 2. Arbitrary Named(keyword) arguments, **kwargs \n",
    "      - function takes a dictionary of arguments"
   ]
  },
  {
   "cell_type": "code",
   "execution_count": 137,
   "metadata": {},
   "outputs": [
    {
     "name": "stdout",
     "output_type": "stream",
     "text": [
      "Emma\n",
      "25\n",
      "John\n"
     ]
    }
   ],
   "source": [
    "def display_list(*args):\n",
    "    for i in args:\n",
    "        print(i)\n",
    "\n",
    "display_list(\"Emma\", 25, \"John\")"
   ]
  },
  {
   "cell_type": "code",
   "execution_count": 140,
   "metadata": {},
   "outputs": [
    {
     "name": "stdout",
     "output_type": "stream",
     "text": [
      "25\n",
      "Bangalore\n"
     ]
    }
   ],
   "source": [
    "def display_dict(emp, **kwargs):\n",
    "    for i in kwargs:\n",
    "        print(kwargs[i])\n",
    "\n",
    "display_dict(emp=\"Emma\", age=25, city=\"Bangalore\")"
   ]
  },
  {
   "cell_type": "code",
   "execution_count": 143,
   "metadata": {},
   "outputs": [
    {
     "name": "stdout",
     "output_type": "stream",
     "text": [
      "11\n"
     ]
    }
   ],
   "source": [
    "#default arguments\n",
    "def sum(a, b=10): \n",
    "    return a + b\n",
    "\n",
    "num = 5 \n",
    "result = sum(5, 6)                                  # second argument will be set to default\n",
    "print(result)"
   ]
  },
  {
   "cell_type": "code",
   "execution_count": 144,
   "metadata": {},
   "outputs": [
    {
     "ename": "SyntaxError",
     "evalue": "non-default argument follows default argument (<ipython-input-144-7f2e1d12c840>, line 2)",
     "output_type": "error",
     "traceback": [
      "\u001b[1;36m  File \u001b[1;32m\"<ipython-input-144-7f2e1d12c840>\"\u001b[1;36m, line \u001b[1;32m2\u001b[0m\n\u001b[1;33m    def sum(a=10,b):\u001b[0m\n\u001b[1;37m           ^\u001b[0m\n\u001b[1;31mSyntaxError\u001b[0m\u001b[1;31m:\u001b[0m non-default argument follows default argument\n"
     ]
    }
   ],
   "source": [
    "# What will be the output here?\n",
    "def sum(a=10,b):\n",
    "    return a + b\n",
    "\n",
    "result = sum(5)"
   ]
  },
  {
   "cell_type": "code",
   "execution_count": 145,
   "metadata": {},
   "outputs": [
    {
     "name": "stdout",
     "output_type": "stream",
     "text": [
      "curdrice\n",
      "salad\n",
      "pickle\n"
     ]
    }
   ],
   "source": [
    "# passing a list as an argument\n",
    "def print_lunch(items):\n",
    "    for i in items:                             # i has to be an iterable value\n",
    "        print(i)\n",
    "        \n",
    "items = [\"curdrice\", \"salad\", \"pickle\"]\n",
    "\n",
    "print_lunch(items)"
   ]
  },
  {
   "cell_type": "code",
   "execution_count": 146,
   "metadata": {},
   "outputs": [
    {
     "name": "stdout",
     "output_type": "stream",
     "text": [
      "I\n",
      "c\n",
      "e\n",
      " \n",
      "C\n",
      "r\n",
      "e\n",
      "a\n",
      "m\n"
     ]
    }
   ],
   "source": [
    "#what will this print?\n",
    "items = \"Ice Cream\"\n",
    "print_lunch(items)"
   ]
  },
  {
   "cell_type": "markdown",
   "metadata": {},
   "source": [
    "#### 4.3 Recursion \n",
    " - Recursion is a common mathematical and programming concept. It means that a function calls itself. \n",
    " - This has the benefit of meaning that you can loop through data to reach a result.\n",
    " - Python also accepts function recursion, which means a defined function can call itself.\n",
    " - Avoid recursion unless really required - hard to understand, debug, causes memory overload"
   ]
  },
  {
   "cell_type": "code",
   "execution_count": 147,
   "metadata": {},
   "outputs": [
    {
     "data": {
      "text/plain": [
       "12"
      ]
     },
     "execution_count": 147,
     "metadata": {},
     "output_type": "execute_result"
    }
   ],
   "source": [
    "#finding the greatest common divisor recursively\n",
    "def gcd(p, q):\n",
    "    if q == 0:\n",
    "        return p\n",
    "    return gcd(q , p%q)\n",
    "\n",
    "gcd(84, 36)"
   ]
  },
  {
   "cell_type": "code",
   "execution_count": null,
   "metadata": {},
   "outputs": [],
   "source": [
    "# write a function to reverse the string recursively"
   ]
  },
  {
   "cell_type": "code",
   "execution_count": null,
   "metadata": {},
   "outputs": [],
   "source": [
    "# write a function to calculate the factorial of a number "
   ]
  },
  {
   "cell_type": "markdown",
   "metadata": {},
   "source": [
    "#### 4.4 Lambda function \n",
    "- a small anonymous function\n",
    "- can only have one expression\n",
    "- can take any number of arguments \n",
    "\n",
    "##### Syntax:  lambda arguments : expression "
   ]
  },
  {
   "cell_type": "code",
   "execution_count": 148,
   "metadata": {},
   "outputs": [
    {
     "name": "stdout",
     "output_type": "stream",
     "text": [
      "30\n"
     ]
    }
   ],
   "source": [
    "multiply = lambda a, b : a * b                  #use lambda keyword\n",
    "\n",
    "print(multiply(5, 6))"
   ]
  },
  {
   "cell_type": "code",
   "execution_count": null,
   "metadata": {},
   "outputs": [],
   "source": [
    "#write a lambda function to sum 3 integers \n"
   ]
  },
  {
   "cell_type": "code",
   "execution_count": 149,
   "metadata": {},
   "outputs": [
    {
     "data": {
      "text/plain": [
       "[1.0, 1.4142135623730951, 1.7320508075688772, 2.0, 2.23606797749979]"
      ]
     },
     "execution_count": 149,
     "metadata": {},
     "output_type": "execute_result"
    }
   ],
   "source": [
    "#map function - applies a function over an iterator\n",
    "from math import * \n",
    "\n",
    "seq = [1,2,3,4,5]\n",
    "result = map(sqrt, seq)                         #apply math.sqrt() to each element in seq\n",
    "\n",
    "list(result)                                    #get the result in a list "
   ]
  },
  {
   "cell_type": "markdown",
   "metadata": {},
   "source": [
    "##### 4.5 Passing Function as parameters\n",
    " - functions can be passed as arguments to another function\n",
    " - functions like map, filter and reduce in Python, work this way"
   ]
  },
  {
   "cell_type": "code",
   "execution_count": 151,
   "metadata": {},
   "outputs": [],
   "source": [
    "def add1(x):\n",
    "    return x + 1\n",
    "\n",
    "\n",
    "def sub1(x):\n",
    "    return x - 1\n",
    "\n",
    "\n",
    "def update(x, func):\n",
    "    result = func(x)\n",
    "    return result"
   ]
  },
  {
   "cell_type": "code",
   "execution_count": 152,
   "metadata": {},
   "outputs": [
    {
     "data": {
      "text/plain": [
       "6"
      ]
     },
     "execution_count": 152,
     "metadata": {},
     "output_type": "execute_result"
    }
   ],
   "source": [
    "update(5,add1)"
   ]
  },
  {
   "cell_type": "code",
   "execution_count": 153,
   "metadata": {},
   "outputs": [
    {
     "data": {
      "text/plain": [
       "4"
      ]
     },
     "execution_count": 153,
     "metadata": {},
     "output_type": "execute_result"
    }
   ],
   "source": [
    "update(5,sub1)"
   ]
  },
  {
   "cell_type": "markdown",
   "metadata": {},
   "source": [
    "##### 4.6 Decorator Functions\n",
    " - These functions add aditional functionality to existing functions\n",
    " - Useful when original function code is not available for editing"
   ]
  },
  {
   "cell_type": "code",
   "execution_count": 154,
   "metadata": {},
   "outputs": [],
   "source": [
    "def printer(msg):\n",
    "    print(msg)"
   ]
  },
  {
   "cell_type": "code",
   "execution_count": 155,
   "metadata": {},
   "outputs": [
    {
     "name": "stdout",
     "output_type": "stream",
     "text": [
      "I am learning Data Science\n"
     ]
    }
   ],
   "source": [
    "printer(\"I am learning Data Science\")"
   ]
  },
  {
   "cell_type": "code",
   "execution_count": 156,
   "metadata": {},
   "outputs": [],
   "source": [
    "#decorator example\n",
    "def decorate(func):\n",
    "    def inner(msg):\n",
    "        print(\"%\" * 30)\n",
    "        func(msg)\n",
    "        print(\"%\" * 30)\n",
    "    return inner\n",
    "\n",
    "@decorate\n",
    "def printer(msg):\n",
    "    print(msg)"
   ]
  },
  {
   "cell_type": "code",
   "execution_count": 157,
   "metadata": {},
   "outputs": [
    {
     "name": "stdout",
     "output_type": "stream",
     "text": [
      "%%%%%%%%%%%%%%%%%%%%%%%%%%%%%%\n",
      "I am learning Data Science\n",
      "%%%%%%%%%%%%%%%%%%%%%%%%%%%%%%\n"
     ]
    }
   ],
   "source": [
    "printer(\"I am learning Data Science\")"
   ]
  },
  {
   "cell_type": "markdown",
   "metadata": {},
   "source": [
    "#### 4.7 Modules \n",
    "- In Python, Modules are simply files with the “. py” extension containing Python code \n",
    "- They can be imported inside another Python Program\n",
    "- A module is a code library or a file that contains a set of functions\n",
    "- The Python standard library contains well over 200 modules, although the exact number varies between distributions "
   ]
  },
  {
   "cell_type": "code",
   "execution_count": 158,
   "metadata": {},
   "outputs": [],
   "source": [
    "import math                                        # use import to import a module"
   ]
  },
  {
   "cell_type": "code",
   "execution_count": 159,
   "metadata": {},
   "outputs": [
    {
     "data": {
      "text/plain": [
       "['__doc__',\n",
       " '__loader__',\n",
       " '__name__',\n",
       " '__package__',\n",
       " '__spec__',\n",
       " 'acos',\n",
       " 'acosh',\n",
       " 'asin',\n",
       " 'asinh',\n",
       " 'atan',\n",
       " 'atan2',\n",
       " 'atanh',\n",
       " 'ceil',\n",
       " 'copysign',\n",
       " 'cos',\n",
       " 'cosh',\n",
       " 'degrees',\n",
       " 'e',\n",
       " 'erf',\n",
       " 'erfc',\n",
       " 'exp',\n",
       " 'expm1',\n",
       " 'fabs',\n",
       " 'factorial',\n",
       " 'floor',\n",
       " 'fmod',\n",
       " 'frexp',\n",
       " 'fsum',\n",
       " 'gamma',\n",
       " 'gcd',\n",
       " 'hypot',\n",
       " 'inf',\n",
       " 'isclose',\n",
       " 'isfinite',\n",
       " 'isinf',\n",
       " 'isnan',\n",
       " 'ldexp',\n",
       " 'lgamma',\n",
       " 'log',\n",
       " 'log10',\n",
       " 'log1p',\n",
       " 'log2',\n",
       " 'modf',\n",
       " 'nan',\n",
       " 'pi',\n",
       " 'pow',\n",
       " 'radians',\n",
       " 'sin',\n",
       " 'sinh',\n",
       " 'sqrt',\n",
       " 'tan',\n",
       " 'tanh',\n",
       " 'tau',\n",
       " 'trunc']"
      ]
     },
     "execution_count": 159,
     "metadata": {},
     "output_type": "execute_result"
    }
   ],
   "source": [
    "# dir is used to find all function defined inside a module\n",
    "dir(math)"
   ]
  },
  {
   "cell_type": "code",
   "execution_count": 160,
   "metadata": {},
   "outputs": [
    {
     "name": "stdout",
     "output_type": "stream",
     "text": [
      "-2.4492935982947064e-16\n"
     ]
    }
   ],
   "source": [
    "from math import sin , pi\n",
    "\n",
    "x = sin(2*pi)\n",
    "\n",
    "print (x)"
   ]
  },
  {
   "cell_type": "code",
   "execution_count": 161,
   "metadata": {},
   "outputs": [],
   "source": [
    "# user defined module \n",
    "import mymodule"
   ]
  },
  {
   "cell_type": "code",
   "execution_count": 162,
   "metadata": {},
   "outputs": [
    {
     "data": {
      "text/plain": [
       "['__builtins__',\n",
       " '__cached__',\n",
       " '__doc__',\n",
       " '__file__',\n",
       " '__loader__',\n",
       " '__name__',\n",
       " '__package__',\n",
       " '__spec__',\n",
       " 'greeting',\n",
       " 'quoteofday',\n",
       " 'whatsforlunch']"
      ]
     },
     "execution_count": 162,
     "metadata": {},
     "output_type": "execute_result"
    }
   ],
   "source": [
    "dir(mymodule)                                     # let's take a peek"
   ]
  },
  {
   "cell_type": "code",
   "execution_count": 163,
   "metadata": {},
   "outputs": [
    {
     "name": "stdout",
     "output_type": "stream",
     "text": [
      "An apple a day keeps the doctor away!\n"
     ]
    }
   ],
   "source": [
    "mymodule.quoteofday()"
   ]
  },
  {
   "cell_type": "code",
   "execution_count": null,
   "metadata": {},
   "outputs": [],
   "source": [
    "# Question  - How to unload a module in Python?"
   ]
  }
 ],
 "metadata": {
  "kernelspec": {
   "display_name": "Python 3 (ipykernel)",
   "language": "python",
   "name": "python3"
  },
  "language_info": {
   "codemirror_mode": {
    "name": "ipython",
    "version": 3
   },
   "file_extension": ".py",
   "mimetype": "text/x-python",
   "name": "python",
   "nbconvert_exporter": "python",
   "pygments_lexer": "ipython3",
   "version": "3.9.7"
  }
 },
 "nbformat": 4,
 "nbformat_minor": 2
}
